{
 "cells": [
  {
   "cell_type": "markdown",
   "metadata": {},
   "source": [
    "# Confidence Intervals"
   ]
  },
  {
   "cell_type": "code",
   "execution_count": 1,
   "metadata": {},
   "outputs": [],
   "source": [
    "# Libraries\n",
    "from scipy import stats\n",
    "import numpy as np"
   ]
  },
  {
   "cell_type": "markdown",
   "metadata": {},
   "source": [
    "## Challenge 1\n",
    "We want to estimate the average size of the men of a country with a confidence level of 80%. Assuming that the standard deviation of the sizes in the population is 4, get the confidence interval with a sample of men selected randomly, whose heights are:\n",
    "\n",
    "````\n",
    "heights = [167, 167, 168, 168, 168, 169, 171, 172, 173, 175, 175, 175, 177, 182, 195]\n",
    "````\n",
    "\n",
    "**Hint**: function `stats.norm.interval` from `scipy` can help you get through this exercise. "
   ]
  },
  {
   "cell_type": "code",
   "execution_count": 15,
   "metadata": {},
   "outputs": [
    {
     "name": "stdout",
     "output_type": "stream",
     "text": [
      "Possible answers:\n",
      " \n",
      "      (164.35812913248898, 182.57520420084435) \n",
      "      (164.03843459419696, 182.89489873913638) \n",
      "      (171.11485238812165, 175.8184809452117) \n",
      "      (171.0323076132764, 175.90102572005694) \n",
      "      (172.74542051315973, 174.1879128201736)\n"
     ]
    }
   ],
   "source": [
    "# your code here\n",
    "# given heights\n",
    "heights = [167, 167, 168, 168, 168, 169, 171, 172, 173, 175, 175, 175, 177, 182, 195]\n",
    "\n",
    "# From: \n",
    "# https://stackoverflow.com/questions/28242593/correct-way-to-obtain-confidence-interval-with-scipy\n",
    "\n",
    "# calculating mu (mean), sigma (std) and n(??)\n",
    "mu, sigma, n = np.mean(heights), np.std(heights), np.sqrt(len(heights))\n",
    "\n",
    "# or should it be this way??\n",
    "sigma2 = np.std(heights, ddof = 1)\n",
    "\n",
    "# or this?\n",
    "sigma3 = 4 / sigma\n",
    "\n",
    "# calculating the confidence interval if the sample is taken once??\n",
    "confidence_interval_once = stats.norm.interval(0.80, loc = mu, scale = sigma)\n",
    "\n",
    "confidence_interval_once2 = stats.norm.interval(0.80, loc = mu, scale = sigma2)\n",
    "\n",
    "# calculating the confidence interval if the sample is taken several times??\n",
    "confidence_interval_several = stats.norm.interval(0.80, loc = mu, scale = sigma / n)\n",
    "\n",
    "confidence_interval_several2 = stats.norm.interval(0.80, loc = mu, scale = sigma2 / n)\n",
    "\n",
    "# final way to calculate\n",
    "ci = stats.norm.interval(0.80, loc = mu, scale = sigma3)\n",
    "\n",
    "print(f\"\"\"Possible answers:\\n \n",
    "      {confidence_interval_once} \n",
    "      {confidence_interval_once2} \n",
    "      {confidence_interval_several} \n",
    "      {confidence_interval_several2} \n",
    "      {ci}\"\"\")"
   ]
  },
  {
   "cell_type": "markdown",
   "metadata": {},
   "source": [
    "## Challenge 2 \n",
    "In a sample of 105 shops selected randomly from an area, we note that 27 of them have had losses in this month. Get an interval for the proportion of businesses in the area with losses to a confidence level of 80% and a confidence level of 90%.\n",
    "\n",
    "**Hint**: function `stats.norm.interval` from `scipy` can help you get through this exercise. "
   ]
  },
  {
   "cell_type": "code",
   "execution_count": 3,
   "metadata": {},
   "outputs": [
    {
     "name": "stdout",
     "output_type": "stream",
     "text": [
      "Possible answers:\n",
      " One: (array([nan, nan]), array([nan, nan]))\n",
      " Two: (array([nan, nan]), array([nan, nan]))\n",
      " Zero: (array([-0.02746911, -0.10815265]), array([0.54175482, 0.62243836]))\n"
     ]
    },
    {
     "name": "stderr",
     "output_type": "stream",
     "text": [
      "/opt/anaconda3/envs/ironhack/lib/python3.7/site-packages/numpy/core/_methods.py:217: RuntimeWarning: Degrees of freedom <= 0 for slice\n",
      "  keepdims=keepdims)\n",
      "/opt/anaconda3/envs/ironhack/lib/python3.7/site-packages/numpy/core/_methods.py:209: RuntimeWarning: invalid value encountered in double_scalars\n",
      "  ret = ret.dtype.type(ret / rcount)\n",
      "/opt/anaconda3/envs/ironhack/lib/python3.7/site-packages/scipy/stats/_distn_infrastructure.py:2003: RuntimeWarning: invalid value encountered in multiply\n",
      "  lower_bound = _a * scale + loc\n",
      "/opt/anaconda3/envs/ironhack/lib/python3.7/site-packages/scipy/stats/_distn_infrastructure.py:2004: RuntimeWarning: invalid value encountered in multiply\n",
      "  upper_bound = _b * scale + loc\n"
     ]
    }
   ],
   "source": [
    "# your code here\n",
    "# trying to use https://kite.com/python/docs/scipy.stats.norm.interval as a guide\n",
    "\n",
    "lost = 27\n",
    "sample = 105\n",
    "this_cl = [0.80, 0.90]\n",
    "p = lost / sample \n",
    "\n",
    "# trying sigmas\n",
    "sigma = np.std(p)\n",
    "sigma2 = np.std(p, ddof = 1)\n",
    "sigma0 = np.sqrt((p * (1 - p)) / n)\n",
    "\n",
    "# trying answers\n",
    "one = stats.norm.interval(this_cl, loc = p, scale = sigma)\n",
    "two = stats.norm.interval(this_cl, loc = p, scale = sigma2)\n",
    "zero = stats.norm.interval(this_cl, loc = p, scale = sigma0)\n",
    "\n",
    "print(f\"Possible answers:\\n One: {one}\\n Two: {two}\\n Zero: {zero}\")"
   ]
  },
  {
   "cell_type": "markdown",
   "metadata": {},
   "source": [
    "## Bonus Challenge\n",
    "The error level or sampling error for the first challenge is given by the following expression:\n",
    "$$Error = z_{\\frac{\\alpha}{2}}\\frac{\\sigma}{\\sqrt n}$$\n",
    "Where z represents the value for N(0,1)\n",
    "\n",
    "\n",
    "Suppose that with the previous data of challenge 1, and with a confidence level of\n",
    "99% (that is, almost certainly) we want to estimate the average population size, so that the error level committed is not greater than half a centimeter.\n",
    "\n",
    "#### 1.- Determine what size the selected sample of men should be."
   ]
  },
  {
   "cell_type": "code",
   "execution_count": 16,
   "metadata": {},
   "outputs": [
    {
     "data": {
      "text/plain": [
       "424"
      ]
     },
     "execution_count": 16,
     "metadata": {},
     "output_type": "execute_result"
    }
   ],
   "source": [
    "# your code here\n",
    "z = 2.576\n",
    "sigma = 4\n",
    "error = 0.5\n",
    "\n",
    "n = (z * sigma / error) ** 2\n",
    "\n",
    "int(n)"
   ]
  },
  {
   "cell_type": "markdown",
   "metadata": {},
   "source": [
    "#### 2.- For the second challenge, we have the following error:\n",
    "$$ Error = z_{\\frac{\\alpha}{2}}\\sqrt{\\frac{p\\times q}{n}} $$\n",
    "#### Determine the sample size required to not exceed an error of 1% with a confidence of 80%."
   ]
  },
  {
   "cell_type": "code",
   "execution_count": 17,
   "metadata": {},
   "outputs": [
    {
     "data": {
      "text/plain": [
       "3139"
      ]
     },
     "execution_count": 17,
     "metadata": {},
     "output_type": "execute_result"
    }
   ],
   "source": [
    "# your code here\n",
    "error = 0.01\n",
    "z = 1.282\n",
    "\n",
    "i1 = (error / z) ** 2\n",
    "n = p * (1 - p) / (error / z) ** 2\n",
    "\n",
    "int(n)"
   ]
  },
  {
   "cell_type": "markdown",
   "metadata": {},
   "source": [
    "## Bonus Challenge\n",
    "\n",
    "Let's consider the following problem:\n",
    "\n",
    "Build a confidence interval of 94% for the real difference between the durations of two brands of spotlights, if a sample of 40 spotlights taken randomly from the first mark gave an average duration of 418 hours, and a sample of 50 bulbs of another brand gave a duration average of 402 hours. The standard deviations of the two\n",
    "populations are 26 hours and 22 hours, respectively.\n",
    "\n",
    "Sometimes, we will be interested in the difference of two different groups of random variables. We can also build a confidence interval for that! We have some different cases regarding the variance but for this specific case (the variance are different and known), we have that:\n",
    "\n",
    "$$\\overline{X} - \\overline{Y}  \\sim N(\\mu_{X} - \\mu_{Y} , \\sqrt{\\frac{\\sigma_{X}^2}{n_X}+\\frac{\\sigma_{Y}^2}{n_Y}})$$\n",
    "\n",
    "Solve the problem with this information."
   ]
  },
  {
   "cell_type": "code",
   "execution_count": null,
   "metadata": {},
   "outputs": [],
   "source": [
    "# your code here"
   ]
  }
 ],
 "metadata": {
  "kernelspec": {
   "display_name": "Python 3",
   "language": "python",
   "name": "python3"
  },
  "language_info": {
   "codemirror_mode": {
    "name": "ipython",
    "version": 3
   },
   "file_extension": ".py",
   "mimetype": "text/x-python",
   "name": "python",
   "nbconvert_exporter": "python",
   "pygments_lexer": "ipython3",
   "version": "3.7.6"
  }
 },
 "nbformat": 4,
 "nbformat_minor": 2
}
