{
 "cells": [
  {
   "cell_type": "markdown",
   "metadata": {},
   "source": [
    "## Global Historical Climatology Network Dataset\n",
    "Variables are stored in both rows and columns\n",
    "This dataset represents the daily weather records for a weather station (MX17004) in Mexico for five months in 2010."
   ]
  },
  {
   "cell_type": "code",
   "execution_count": 1,
   "metadata": {},
   "outputs": [
    {
     "name": "stdout",
     "output_type": "stream",
     "text": [
      "The Zen of Python, by Tim Peters\n",
      "\n",
      "Beautiful is better than ugly.\n",
      "Explicit is better than implicit.\n",
      "Simple is better than complex.\n",
      "Complex is better than complicated.\n",
      "Flat is better than nested.\n",
      "Sparse is better than dense.\n",
      "Readability counts.\n",
      "Special cases aren't special enough to break the rules.\n",
      "Although practicality beats purity.\n",
      "Errors should never pass silently.\n",
      "Unless explicitly silenced.\n",
      "In the face of ambiguity, refuse the temptation to guess.\n",
      "There should be one-- and preferably only one --obvious way to do it.\n",
      "Although that way may not be obvious at first unless you're Dutch.\n",
      "Now is better than never.\n",
      "Although never is often better than *right* now.\n",
      "If the implementation is hard to explain, it's a bad idea.\n",
      "If the implementation is easy to explain, it may be a good idea.\n",
      "Namespaces are one honking great idea -- let's do more of those!\n"
     ]
    },
    {
     "data": {
      "text/plain": [
       "['main.ipynb',\n",
       " 'posts_table.csv',\n",
       " 'weather.ipynb',\n",
       " '.ipynb_checkpoints',\n",
       " 'users_table.csv']"
      ]
     },
     "execution_count": 1,
     "metadata": {},
     "output_type": "execute_result"
    }
   ],
   "source": [
    "# imports\n",
    "import pandas as pd\n",
    "import os\n",
    "import this\n",
    "\n",
    "# listing the files in the directory to id the users table\n",
    "os.listdir()"
   ]
  },
  {
   "cell_type": "code",
   "execution_count": 2,
   "metadata": {},
   "outputs": [],
   "source": [
    "# creating a DataFrame\n",
    "weather = pd.read_csv(\"../weather-raw.csv\")"
   ]
  },
  {
   "cell_type": "code",
   "execution_count": 4,
   "metadata": {},
   "outputs": [
    {
     "data": {
      "text/html": [
       "<div>\n",
       "<style scoped>\n",
       "    .dataframe tbody tr th:only-of-type {\n",
       "        vertical-align: middle;\n",
       "    }\n",
       "\n",
       "    .dataframe tbody tr th {\n",
       "        vertical-align: top;\n",
       "    }\n",
       "\n",
       "    .dataframe thead th {\n",
       "        text-align: right;\n",
       "    }\n",
       "</style>\n",
       "<table border=\"1\" class=\"dataframe\">\n",
       "  <thead>\n",
       "    <tr style=\"text-align: right;\">\n",
       "      <th></th>\n",
       "      <th>id</th>\n",
       "      <th>year</th>\n",
       "      <th>month</th>\n",
       "      <th>element</th>\n",
       "      <th>d1</th>\n",
       "      <th>d2</th>\n",
       "      <th>d3</th>\n",
       "      <th>d4</th>\n",
       "      <th>d5</th>\n",
       "      <th>d6</th>\n",
       "      <th>...</th>\n",
       "      <th>d22</th>\n",
       "      <th>d23</th>\n",
       "      <th>d24</th>\n",
       "      <th>d25</th>\n",
       "      <th>d26</th>\n",
       "      <th>d27</th>\n",
       "      <th>d28</th>\n",
       "      <th>d29</th>\n",
       "      <th>d30</th>\n",
       "      <th>d31</th>\n",
       "    </tr>\n",
       "  </thead>\n",
       "  <tbody>\n",
       "    <tr>\n",
       "      <th>0</th>\n",
       "      <td>MX17004</td>\n",
       "      <td>2010</td>\n",
       "      <td>1</td>\n",
       "      <td>tmax</td>\n",
       "      <td>NaN</td>\n",
       "      <td>NaN</td>\n",
       "      <td>NaN</td>\n",
       "      <td>NaN</td>\n",
       "      <td>NaN</td>\n",
       "      <td>NaN</td>\n",
       "      <td>...</td>\n",
       "      <td>NaN</td>\n",
       "      <td>NaN</td>\n",
       "      <td>NaN</td>\n",
       "      <td>NaN</td>\n",
       "      <td>NaN</td>\n",
       "      <td>NaN</td>\n",
       "      <td>NaN</td>\n",
       "      <td>NaN</td>\n",
       "      <td>27.8</td>\n",
       "      <td>NaN</td>\n",
       "    </tr>\n",
       "    <tr>\n",
       "      <th>1</th>\n",
       "      <td>MX17004</td>\n",
       "      <td>2010</td>\n",
       "      <td>1</td>\n",
       "      <td>tmin</td>\n",
       "      <td>NaN</td>\n",
       "      <td>NaN</td>\n",
       "      <td>NaN</td>\n",
       "      <td>NaN</td>\n",
       "      <td>NaN</td>\n",
       "      <td>NaN</td>\n",
       "      <td>...</td>\n",
       "      <td>NaN</td>\n",
       "      <td>NaN</td>\n",
       "      <td>NaN</td>\n",
       "      <td>NaN</td>\n",
       "      <td>NaN</td>\n",
       "      <td>NaN</td>\n",
       "      <td>NaN</td>\n",
       "      <td>NaN</td>\n",
       "      <td>14.5</td>\n",
       "      <td>NaN</td>\n",
       "    </tr>\n",
       "    <tr>\n",
       "      <th>2</th>\n",
       "      <td>MX17004</td>\n",
       "      <td>2010</td>\n",
       "      <td>2</td>\n",
       "      <td>tmax</td>\n",
       "      <td>NaN</td>\n",
       "      <td>27.3</td>\n",
       "      <td>24.1</td>\n",
       "      <td>NaN</td>\n",
       "      <td>NaN</td>\n",
       "      <td>NaN</td>\n",
       "      <td>...</td>\n",
       "      <td>NaN</td>\n",
       "      <td>29.9</td>\n",
       "      <td>NaN</td>\n",
       "      <td>NaN</td>\n",
       "      <td>NaN</td>\n",
       "      <td>NaN</td>\n",
       "      <td>NaN</td>\n",
       "      <td>NaN</td>\n",
       "      <td>NaN</td>\n",
       "      <td>NaN</td>\n",
       "    </tr>\n",
       "    <tr>\n",
       "      <th>3</th>\n",
       "      <td>MX17004</td>\n",
       "      <td>2010</td>\n",
       "      <td>2</td>\n",
       "      <td>tmin</td>\n",
       "      <td>NaN</td>\n",
       "      <td>14.4</td>\n",
       "      <td>14.4</td>\n",
       "      <td>NaN</td>\n",
       "      <td>NaN</td>\n",
       "      <td>NaN</td>\n",
       "      <td>...</td>\n",
       "      <td>NaN</td>\n",
       "      <td>10.7</td>\n",
       "      <td>NaN</td>\n",
       "      <td>NaN</td>\n",
       "      <td>NaN</td>\n",
       "      <td>NaN</td>\n",
       "      <td>NaN</td>\n",
       "      <td>NaN</td>\n",
       "      <td>NaN</td>\n",
       "      <td>NaN</td>\n",
       "    </tr>\n",
       "    <tr>\n",
       "      <th>4</th>\n",
       "      <td>MX17004</td>\n",
       "      <td>2010</td>\n",
       "      <td>3</td>\n",
       "      <td>tmax</td>\n",
       "      <td>NaN</td>\n",
       "      <td>NaN</td>\n",
       "      <td>NaN</td>\n",
       "      <td>NaN</td>\n",
       "      <td>32.1</td>\n",
       "      <td>NaN</td>\n",
       "      <td>...</td>\n",
       "      <td>NaN</td>\n",
       "      <td>NaN</td>\n",
       "      <td>NaN</td>\n",
       "      <td>NaN</td>\n",
       "      <td>NaN</td>\n",
       "      <td>NaN</td>\n",
       "      <td>NaN</td>\n",
       "      <td>NaN</td>\n",
       "      <td>NaN</td>\n",
       "      <td>NaN</td>\n",
       "    </tr>\n",
       "  </tbody>\n",
       "</table>\n",
       "<p>5 rows × 35 columns</p>\n",
       "</div>"
      ],
      "text/plain": [
       "        id  year  month element  d1    d2    d3  d4    d5  d6  ...  d22   d23  \\\n",
       "0  MX17004  2010      1    tmax NaN   NaN   NaN NaN   NaN NaN  ...  NaN   NaN   \n",
       "1  MX17004  2010      1    tmin NaN   NaN   NaN NaN   NaN NaN  ...  NaN   NaN   \n",
       "2  MX17004  2010      2    tmax NaN  27.3  24.1 NaN   NaN NaN  ...  NaN  29.9   \n",
       "3  MX17004  2010      2    tmin NaN  14.4  14.4 NaN   NaN NaN  ...  NaN  10.7   \n",
       "4  MX17004  2010      3    tmax NaN   NaN   NaN NaN  32.1 NaN  ...  NaN   NaN   \n",
       "\n",
       "   d24  d25  d26  d27  d28  d29   d30  d31  \n",
       "0  NaN  NaN  NaN  NaN  NaN  NaN  27.8  NaN  \n",
       "1  NaN  NaN  NaN  NaN  NaN  NaN  14.5  NaN  \n",
       "2  NaN  NaN  NaN  NaN  NaN  NaN   NaN  NaN  \n",
       "3  NaN  NaN  NaN  NaN  NaN  NaN   NaN  NaN  \n",
       "4  NaN  NaN  NaN  NaN  NaN  NaN   NaN  NaN  \n",
       "\n",
       "[5 rows x 35 columns]"
      ]
     },
     "execution_count": 4,
     "metadata": {},
     "output_type": "execute_result"
    }
   ],
   "source": [
    "# checking\n",
    "weather.head()"
   ]
  },
  {
   "cell_type": "code",
   "execution_count": 5,
   "metadata": {},
   "outputs": [
    {
     "data": {
      "text/plain": [
       "(22, 35)"
      ]
     },
     "execution_count": 5,
     "metadata": {},
     "output_type": "execute_result"
    }
   ],
   "source": [
    "# checking the shape\n",
    "weather.shape"
   ]
  },
  {
   "cell_type": "code",
   "execution_count": 6,
   "metadata": {},
   "outputs": [
    {
     "data": {
      "text/plain": [
       "Index(['id', 'year', 'month', 'element', 'd1', 'd2', 'd3', 'd4', 'd5', 'd6',\n",
       "       'd7', 'd8', 'd9', 'd10', 'd11', 'd12', 'd13', 'd14', 'd15', 'd16',\n",
       "       'd17', 'd18', 'd19', 'd20', 'd21', 'd22', 'd23', 'd24', 'd25', 'd26',\n",
       "       'd27', 'd28', 'd29', 'd30', 'd31'],\n",
       "      dtype='object')"
      ]
     },
     "execution_count": 6,
     "metadata": {},
     "output_type": "execute_result"
    }
   ],
   "source": [
    "# checking the columns\n",
    "weather.columns"
   ]
  },
  {
   "cell_type": "code",
   "execution_count": 7,
   "metadata": {},
   "outputs": [
    {
     "data": {
      "text/plain": [
       "id          object\n",
       "year         int64\n",
       "month        int64\n",
       "element     object\n",
       "d1         float64\n",
       "d2         float64\n",
       "d3         float64\n",
       "d4         float64\n",
       "d5         float64\n",
       "d6         float64\n",
       "d7         float64\n",
       "d8         float64\n",
       "d9         float64\n",
       "d10        float64\n",
       "d11        float64\n",
       "d12        float64\n",
       "d13        float64\n",
       "d14        float64\n",
       "d15        float64\n",
       "d16        float64\n",
       "d17        float64\n",
       "d18        float64\n",
       "d19        float64\n",
       "d20        float64\n",
       "d21        float64\n",
       "d22        float64\n",
       "d23        float64\n",
       "d24        float64\n",
       "d25        float64\n",
       "d26        float64\n",
       "d27        float64\n",
       "d28        float64\n",
       "d29        float64\n",
       "d30        float64\n",
       "d31        float64\n",
       "dtype: object"
      ]
     },
     "execution_count": 7,
     "metadata": {},
     "output_type": "execute_result"
    }
   ],
   "source": [
    "# checking the dtypes\n",
    "weather.dtypes"
   ]
  },
  {
   "cell_type": "code",
   "execution_count": 28,
   "metadata": {},
   "outputs": [],
   "source": [
    "# creating function to check uniques\n",
    "def i_am_unique(col):\n",
    "    uniques = col.unique()\n",
    "    if len(uniques) > 1:\n",
    "        return f\"{len(uniques)} uniques: {uniques}.\"\n",
    "\n",
    "    else:\n",
    "        return f\"{len(uniques)} unique: {uniques}.\""
   ]
  },
  {
   "cell_type": "code",
   "execution_count": 29,
   "metadata": {},
   "outputs": [
    {
     "data": {
      "text/plain": [
       "id                                    1 unique: ['MX17004'].\n",
       "year                                       1 unique: [2010].\n",
       "month                11 uniques: [1 2 3 4 5 6 7 8 10 11 12].\n",
       "element                          2 uniques: ['tmax' 'tmin'].\n",
       "d1                               3 uniques: [nan 29.9 13.8].\n",
       "d2                     5 uniques: [nan 27.3 14.4 31.3 16.3].\n",
       "d3                     5 uniques: [nan 24.1 14.4 28.6 17.5].\n",
       "d4                               3 uniques: [nan 27.2 12.0].\n",
       "d5         9 uniques: [nan 32.1 14.2 29.6 15.8 27.0 14.0 ...\n",
       "d6                               3 uniques: [nan 27.8 10.5].\n",
       "d7                               3 uniques: [nan 28.1 12.9].\n",
       "d8                               3 uniques: [nan 29.0 17.3].\n",
       "d9                                          1 unique: [nan].\n",
       "d10                              3 uniques: [nan 34.5 16.8].\n",
       "d11                              3 uniques: [nan 29.7 13.4].\n",
       "d12                                         1 unique: [nan].\n",
       "d13                              3 uniques: [nan 29.8 16.5].\n",
       "d14                    5 uniques: [nan 29.9 16.5 29.5 13.0].\n",
       "d15                              3 uniques: [nan 28.7 10.5].\n",
       "d16                              3 uniques: [nan 31.1 17.6].\n",
       "d17                              3 uniques: [nan 28.0 17.5].\n",
       "d18                                         1 unique: [nan].\n",
       "d19                                         1 unique: [nan].\n",
       "d20                                         1 unique: [nan].\n",
       "d21                                         1 unique: [nan].\n",
       "d22                                         1 unique: [nan].\n",
       "d23                    5 uniques: [nan 29.9 10.7 26.4 15.0].\n",
       "d24                                         1 unique: [nan].\n",
       "d25                              3 uniques: [nan 29.7 15.6].\n",
       "d26                              3 uniques: [nan 28.1 12.1].\n",
       "d27          7 uniques: [nan 36.3 16.7 33.2 18.2 27.7 14.2].\n",
       "d28                              3 uniques: [nan 31.2 15.0].\n",
       "d29                    5 uniques: [nan 30.1 18.0 28.0 15.3].\n",
       "d30                              3 uniques: [27.8 14.5 nan].\n",
       "d31                              3 uniques: [nan 25.4 15.4].\n",
       "dtype: object"
      ]
     },
     "execution_count": 29,
     "metadata": {},
     "output_type": "execute_result"
    }
   ],
   "source": [
    "# checking uniques\n",
    "weather.apply(i_am_unique)"
   ]
  },
  {
   "cell_type": "code",
   "execution_count": 26,
   "metadata": {},
   "outputs": [],
   "source": [
    "# defining a function to check null values and null values %:\n",
    "def null_cols(ds):\n",
    "    \"\"\"\n",
    "    Checks whether the value in each field is missing (null) and return either \n",
    "    True or False for each field, totaling up the number of True values by column.\n",
    "\n",
    "    Then does the same, but returns the value as a percentage. Useful to decide where \n",
    "    to drop.\n",
    "    \"\"\"\n",
    "    \n",
    "    return f\"has {ds.isnull().sum()} NAN's, which is {round(ds.isna().mean().round(4) * 100, 2)}% of the Series.\""
   ]
  },
  {
   "cell_type": "code",
   "execution_count": 27,
   "metadata": {},
   "outputs": [
    {
     "data": {
      "text/plain": [
       "id            has 0 NAN's, which is 0.0% of the Series.\n",
       "year          has 0 NAN's, which is 0.0% of the Series.\n",
       "month         has 0 NAN's, which is 0.0% of the Series.\n",
       "element       has 0 NAN's, which is 0.0% of the Series.\n",
       "d1         has 20 NAN's, which is 90.91% of the Series.\n",
       "d2         has 18 NAN's, which is 81.82% of the Series.\n",
       "d3         has 18 NAN's, which is 81.82% of the Series.\n",
       "d4         has 20 NAN's, which is 90.91% of the Series.\n",
       "d5         has 14 NAN's, which is 63.64% of the Series.\n",
       "d6         has 20 NAN's, which is 90.91% of the Series.\n",
       "d7         has 20 NAN's, which is 90.91% of the Series.\n",
       "d8         has 20 NAN's, which is 90.91% of the Series.\n",
       "d9         has 22 NAN's, which is 100.0% of the Series.\n",
       "d10        has 20 NAN's, which is 90.91% of the Series.\n",
       "d11        has 20 NAN's, which is 90.91% of the Series.\n",
       "d12        has 22 NAN's, which is 100.0% of the Series.\n",
       "d13        has 20 NAN's, which is 90.91% of the Series.\n",
       "d14        has 18 NAN's, which is 81.82% of the Series.\n",
       "d15        has 20 NAN's, which is 90.91% of the Series.\n",
       "d16        has 20 NAN's, which is 90.91% of the Series.\n",
       "d17        has 20 NAN's, which is 90.91% of the Series.\n",
       "d18        has 22 NAN's, which is 100.0% of the Series.\n",
       "d19        has 22 NAN's, which is 100.0% of the Series.\n",
       "d20        has 22 NAN's, which is 100.0% of the Series.\n",
       "d21        has 22 NAN's, which is 100.0% of the Series.\n",
       "d22        has 22 NAN's, which is 100.0% of the Series.\n",
       "d23        has 18 NAN's, which is 81.82% of the Series.\n",
       "d24        has 22 NAN's, which is 100.0% of the Series.\n",
       "d25        has 20 NAN's, which is 90.91% of the Series.\n",
       "d26        has 20 NAN's, which is 90.91% of the Series.\n",
       "d27        has 16 NAN's, which is 72.73% of the Series.\n",
       "d28        has 20 NAN's, which is 90.91% of the Series.\n",
       "d29        has 18 NAN's, which is 81.82% of the Series.\n",
       "d30        has 20 NAN's, which is 90.91% of the Series.\n",
       "d31        has 20 NAN's, which is 90.91% of the Series.\n",
       "dtype: object"
      ]
     },
     "execution_count": 27,
     "metadata": {},
     "output_type": "execute_result"
    }
   ],
   "source": [
    "weather.apply(null_cols)"
   ]
  },
  {
   "cell_type": "code",
   "execution_count": 30,
   "metadata": {},
   "outputs": [
    {
     "data": {
      "text/plain": [
       "\"\\nSo:\\n    — 'id' and 'year' contain no useful info, as they have only one entry each ('MX17004' and '2010')\\n    repectively;\\n    — The 9th month seems to be missing in 'month';\\n    — should, maybe, be split into two columns ('tmin' and 'tmax') and be treathed as bool;\\n    — d9, d18, d19, d20, d21, d22 and d24 only have nan's, so (since there's no \\n    documentation on this dataset), they can be droped;\\n    — I just realized that from d1 to d31 it's the days of the month. Or, I should say, I \\n    think they're the days of the month. So a better solution might be to fill with medians \\n    or modes of that month. \\n\""
      ]
     },
     "execution_count": 30,
     "metadata": {},
     "output_type": "execute_result"
    }
   ],
   "source": [
    "\"\"\"\n",
    "So:\n",
    "    — 'id' and 'year' contain no useful info, as they have only one entry each ('MX17004' and\n",
    "    '2010') repectively;\n",
    "    — The 9th month seems to be missing in 'month';\n",
    "    — should, maybe, be split into two columns ('tmin' and 'tmax') and be treathed as bool;\n",
    "    — d9, d18, d19, d20, d21, d22 and d24 only have nan's, so (since there's no \n",
    "    documentation on this dataset), they can be droped;\n",
    "    — I just realized that from d1 to d31 it's the days of the month. Or, I should say, I \n",
    "    think they're the days of the month. So a better solution might be to fill with medians \n",
    "    or modes of that month;\n",
    "    — maybe a reshape is in order? index being the days, and the columns being 'month', 'tmin' \n",
    "    and 'tmax' (not bools), with each entity being one day? Then I could reevaluate the \n",
    "    situation.\n",
    "\"\"\""
   ]
  }
 ],
 "metadata": {
  "kernelspec": {
   "display_name": "Python 3",
   "language": "python",
   "name": "python3"
  },
  "language_info": {
   "codemirror_mode": {
    "name": "ipython",
    "version": 3
   },
   "file_extension": ".py",
   "mimetype": "text/x-python",
   "name": "python",
   "nbconvert_exporter": "python",
   "pygments_lexer": "ipython3",
   "version": "3.7.6"
  }
 },
 "nbformat": 4,
 "nbformat_minor": 2
}
