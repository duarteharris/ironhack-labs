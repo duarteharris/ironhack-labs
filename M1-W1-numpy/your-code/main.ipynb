{
 "cells": [
  {
   "cell_type": "markdown",
   "metadata": {},
   "source": [
    "# Intrduction to NumPy\n",
    "\n",
    "\n",
    "#### 1. Import NumPy under the name np."
   ]
  },
  {
   "cell_type": "code",
   "execution_count": 1,
   "metadata": {},
   "outputs": [],
   "source": [
    "# your code here\n",
    "import numpy as np"
   ]
  },
  {
   "cell_type": "markdown",
   "metadata": {},
   "source": [
    "#### 2. Print your NumPy version."
   ]
  },
  {
   "cell_type": "code",
   "execution_count": 2,
   "metadata": {},
   "outputs": [
    {
     "name": "stdout",
     "output_type": "stream",
     "text": [
      "1.18.1\n"
     ]
    }
   ],
   "source": [
    "# your code here\n",
    "print(np.version.version)"
   ]
  },
  {
   "cell_type": "markdown",
   "metadata": {},
   "source": [
    "#### 3. Generate a 2x3x5 3-dimensional array with random values. Assign the array to variable *a*.\n",
    "**Challenge**: there are at least three easy ways that use numpy to generate random arrays. How many ways can you find?"
   ]
  },
  {
   "cell_type": "code",
   "execution_count": 3,
   "metadata": {},
   "outputs": [
    {
     "data": {
      "text/plain": [
       "array([[[22, 97, 16,  0,  3],\n",
       "        [ 4, 46, 37, 73, 28],\n",
       "        [60, 89, 48, 20, 57]],\n",
       "\n",
       "       [[68, 67,  9, 65, 33],\n",
       "        [96, 39,  3, 36, 93],\n",
       "        [91, 84, 85, 64, 79]]])"
      ]
     },
     "execution_count": 3,
     "metadata": {},
     "output_type": "execute_result"
    }
   ],
   "source": [
    "# Method 1\n",
    "a = np.random.randint(0, 100, size = (2, 3, 5))\n",
    "a"
   ]
  },
  {
   "cell_type": "code",
   "execution_count": 4,
   "metadata": {},
   "outputs": [
    {
     "data": {
      "text/plain": [
       "array([[[0.42253168, 0.88139112, 0.02232497, 0.39371485, 0.41702237],\n",
       "        [0.89177954, 0.21822932, 0.23591188, 0.50952919, 0.1006083 ],\n",
       "        [0.4868167 , 0.99355467, 0.38019321, 0.94212032, 0.87080117]],\n",
       "\n",
       "       [[0.36860901, 0.42415696, 0.70310739, 0.74337681, 0.6895127 ],\n",
       "        [0.88763115, 0.2565431 , 0.68202085, 0.86661844, 0.85803237],\n",
       "        [0.13109992, 0.86177196, 0.34621776, 0.64948115, 0.16350388]]])"
      ]
     },
     "execution_count": 4,
     "metadata": {},
     "output_type": "execute_result"
    }
   ],
   "source": [
    "# Method 2\n",
    "a = np.random.rand(2, 3, 5)\n",
    "a"
   ]
  },
  {
   "cell_type": "code",
   "execution_count": 5,
   "metadata": {},
   "outputs": [],
   "source": [
    "# Method 3\n",
    "a = np.random.sample((2, 3, 5))"
   ]
  },
  {
   "cell_type": "markdown",
   "metadata": {},
   "source": [
    "#### 4. Print *a*.\n"
   ]
  },
  {
   "cell_type": "code",
   "execution_count": 6,
   "metadata": {},
   "outputs": [
    {
     "name": "stdout",
     "output_type": "stream",
     "text": [
      "[[[0.87973572 0.37106406 0.10176814 0.89695192 0.23479521]\n",
      "  [0.15770891 0.38786598 0.89559283 0.43137559 0.32666925]\n",
      "  [0.04464966 0.38412284 0.10777366 0.13067568 0.39943784]]\n",
      "\n",
      " [[0.74909923 0.1480736  0.28680112 0.6044225  0.67980595]\n",
      "  [0.80999566 0.79146285 0.68533671 0.53400054 0.69154562]\n",
      "  [0.65366722 0.50555675 0.03370688 0.61698553 0.24400155]]]\n"
     ]
    }
   ],
   "source": [
    "# your code here\n",
    "print(a)"
   ]
  },
  {
   "cell_type": "markdown",
   "metadata": {},
   "source": [
    "#### 5. Create a 5x2x3 3-dimensional array with all values equaling 1. Assign the array to variable *b*."
   ]
  },
  {
   "cell_type": "code",
   "execution_count": 7,
   "metadata": {},
   "outputs": [],
   "source": [
    "# your code here\n",
    "b = np.ones((5, 2, 3), dtype = int)"
   ]
  },
  {
   "cell_type": "markdown",
   "metadata": {},
   "source": [
    "#### 6. Print *b*.\n"
   ]
  },
  {
   "cell_type": "code",
   "execution_count": 8,
   "metadata": {},
   "outputs": [
    {
     "name": "stdout",
     "output_type": "stream",
     "text": [
      "[[[1 1 1]\n",
      "  [1 1 1]]\n",
      "\n",
      " [[1 1 1]\n",
      "  [1 1 1]]\n",
      "\n",
      " [[1 1 1]\n",
      "  [1 1 1]]\n",
      "\n",
      " [[1 1 1]\n",
      "  [1 1 1]]\n",
      "\n",
      " [[1 1 1]\n",
      "  [1 1 1]]]\n"
     ]
    }
   ],
   "source": [
    "# your code here\n",
    "print(b)"
   ]
  },
  {
   "cell_type": "markdown",
   "metadata": {},
   "source": [
    "#### 7. Do *a* and *b* have the same size? How do you prove that in Python code?"
   ]
  },
  {
   "cell_type": "code",
   "execution_count": 9,
   "metadata": {},
   "outputs": [
    {
     "data": {
      "text/plain": [
       "True"
      ]
     },
     "execution_count": 9,
     "metadata": {},
     "output_type": "execute_result"
    }
   ],
   "source": [
    "# your code here\n",
    "a.size == b.size"
   ]
  },
  {
   "cell_type": "markdown",
   "metadata": {},
   "source": [
    "#### 8. Are you able to add *a* and *b*? Why or why not?\n"
   ]
  },
  {
   "cell_type": "code",
   "execution_count": 10,
   "metadata": {},
   "outputs": [
    {
     "name": "stdout",
     "output_type": "stream",
     "text": [
      "We get this message: 'ValueError: operands could not be broadcast together with shapes (2,3,5) (5,2,3)\n"
     ]
    }
   ],
   "source": [
    "# your answer here\n",
    "\n",
    "\"\"\"\n",
    "If they don't have the same shape (as it is the case), it is possible, but first they \n",
    "must be broadcasted to a common shape (which becomes the shape of the output).\n",
    "\n",
    "sources: \n",
    "--- https://docs.scipy.org/doc/numpy/reference/generated/numpy.add.html\n",
    "--- https://docs.scipy.org/doc/numpy/user/basics.broadcasting.html\n",
    "\n",
    "For instance, if we:\n",
    "\"\"\"\n",
    "try:\n",
    "    print(np.add(a, b))\n",
    "    \n",
    "except ValueError:\n",
    "    print(\"We get this message: 'ValueError: operands could not be broadcast together with shapes (2,3,5) (5,2,3)\")"
   ]
  },
  {
   "cell_type": "markdown",
   "metadata": {},
   "source": [
    "#### 9. Transpose *b* so that it has the same structure of *a* (i.e. become a 2x3x5 array). Assign the transposed array to variable *c*."
   ]
  },
  {
   "cell_type": "code",
   "execution_count": 11,
   "metadata": {},
   "outputs": [
    {
     "name": "stdout",
     "output_type": "stream",
     "text": [
      "(2, 3, 5)\n",
      "(5, 2, 3)\n",
      "(2, 3, 5)\n"
     ]
    }
   ],
   "source": [
    "# your code here\n",
    "\"\"\"\n",
    "went with reshape because we can think of it as a more powerful version of transpose. \n",
    "With transpose, the number of dimensions and the size of each one is fixed, it’s only the \n",
    "order than can change. With reshape, we can modify (almost) everything about the shape of the\n",
    "array, including the number of dimensions.\n",
    "\"\"\"\n",
    "\n",
    "c = np.reshape(b, a.shape)\n",
    "\n",
    "print(a.shape)\n",
    "print(b.shape)\n",
    "print(c.shape)"
   ]
  },
  {
   "cell_type": "markdown",
   "metadata": {},
   "source": [
    "#### 10. Try to add *a* and *c*. Now it should work. Assign the sum to variable *d*. But why does it work now?"
   ]
  },
  {
   "cell_type": "code",
   "execution_count": 12,
   "metadata": {},
   "outputs": [
    {
     "name": "stdout",
     "output_type": "stream",
     "text": [
      "[[[1.87973572 1.37106406 1.10176814 1.89695192 1.23479521]\n",
      "  [1.15770891 1.38786598 1.89559283 1.43137559 1.32666925]\n",
      "  [1.04464966 1.38412284 1.10777366 1.13067568 1.39943784]]\n",
      "\n",
      " [[1.74909923 1.1480736  1.28680112 1.6044225  1.67980595]\n",
      "  [1.80999566 1.79146285 1.68533671 1.53400054 1.69154562]\n",
      "  [1.65366722 1.50555675 1.03370688 1.61698553 1.24400155]]]\n"
     ]
    }
   ],
   "source": [
    "# your code/answer here\n",
    "d = np.add(a, c)\n",
    "print(d)"
   ]
  },
  {
   "cell_type": "markdown",
   "metadata": {},
   "source": [
    "#### 11. Print *a* and *d*. Notice the difference and relation of the two array in terms of the values? Explain."
   ]
  },
  {
   "cell_type": "code",
   "execution_count": 13,
   "metadata": {},
   "outputs": [
    {
     "name": "stdout",
     "output_type": "stream",
     "text": [
      "a:\n",
      " [[[0.87973572 0.37106406 0.10176814 0.89695192 0.23479521]\n",
      "  [0.15770891 0.38786598 0.89559283 0.43137559 0.32666925]\n",
      "  [0.04464966 0.38412284 0.10777366 0.13067568 0.39943784]]\n",
      "\n",
      " [[0.74909923 0.1480736  0.28680112 0.6044225  0.67980595]\n",
      "  [0.80999566 0.79146285 0.68533671 0.53400054 0.69154562]\n",
      "  [0.65366722 0.50555675 0.03370688 0.61698553 0.24400155]]]\n",
      "\n",
      "d:\n",
      " [[[1.87973572 1.37106406 1.10176814 1.89695192 1.23479521]\n",
      "  [1.15770891 1.38786598 1.89559283 1.43137559 1.32666925]\n",
      "  [1.04464966 1.38412284 1.10777366 1.13067568 1.39943784]]\n",
      "\n",
      " [[1.74909923 1.1480736  1.28680112 1.6044225  1.67980595]\n",
      "  [1.80999566 1.79146285 1.68533671 1.53400054 1.69154562]\n",
      "  [1.65366722 1.50555675 1.03370688 1.61698553 1.24400155]]]\n"
     ]
    }
   ],
   "source": [
    "# your code/answer here\n",
    "print(\"a:\\n\", a)\n",
    "print()\n",
    "print(\"d:\\n\", d)\n",
    "\n",
    "# because d is the sum of each element in a w/each element in c; since all the elements in\n",
    "# c are one's, every element in d is element in a + 1."
   ]
  },
  {
   "cell_type": "markdown",
   "metadata": {},
   "source": [
    "#### 12. Multiply *a* and *c*. Assign the result to *e*."
   ]
  },
  {
   "cell_type": "code",
   "execution_count": 14,
   "metadata": {},
   "outputs": [],
   "source": [
    "# your code here\n",
    "e = np.multiply(a, c)"
   ]
  },
  {
   "cell_type": "markdown",
   "metadata": {},
   "source": [
    "#### 13. Does *e* equal to *a*? Why or why not?\n"
   ]
  },
  {
   "cell_type": "code",
   "execution_count": 15,
   "metadata": {},
   "outputs": [
    {
     "data": {
      "text/plain": [
       "array([[[ True,  True,  True,  True,  True],\n",
       "        [ True,  True,  True,  True,  True],\n",
       "        [ True,  True,  True,  True,  True]],\n",
       "\n",
       "       [[ True,  True,  True,  True,  True],\n",
       "        [ True,  True,  True,  True,  True],\n",
       "        [ True,  True,  True,  True,  True]]])"
      ]
     },
     "execution_count": 15,
     "metadata": {},
     "output_type": "execute_result"
    }
   ],
   "source": [
    "# your code/answer here\n",
    "e == a\n",
    "\n",
    "# because a number multiplied by 1 is itself, and that's what's happening."
   ]
  },
  {
   "cell_type": "markdown",
   "metadata": {},
   "source": [
    "#### 14. Identify the max, min, and mean values in *d*. Assign those values to variables *d_max*, *d_min* and *d_mean*."
   ]
  },
  {
   "cell_type": "code",
   "execution_count": 16,
   "metadata": {},
   "outputs": [
    {
     "name": "stdout",
     "output_type": "stream",
     "text": [
      "1.8969519167350994 1.033706883970594 1.4594883010505986\n"
     ]
    }
   ],
   "source": [
    "# your code here\n",
    "d_max = np.amax(d)\n",
    "d_min = np.amin(d)\n",
    "d_mean = np.mean(d)\n",
    "print(d_max, d_min, d_mean)"
   ]
  },
  {
   "cell_type": "markdown",
   "metadata": {},
   "source": [
    "#### 15. Now we want to label the values in *d*. First create an empty array *f* with the same shape (i.e. 2x3x5) as *d* using `np.empty`.\n"
   ]
  },
  {
   "cell_type": "code",
   "execution_count": 17,
   "metadata": {},
   "outputs": [
    {
     "data": {
      "text/plain": [
       "(2, 3, 5)"
      ]
     },
     "execution_count": 17,
     "metadata": {},
     "output_type": "execute_result"
    }
   ],
   "source": [
    "# your code here\n",
    "f = np.empty(d.shape)\n",
    "f.shape\n"
   ]
  },
  {
   "cell_type": "markdown",
   "metadata": {},
   "source": [
    "#### 16. Populate the values in *f*. \n",
    "\n",
    "For each value in *d*, if it's larger than *d_min* but smaller than *d_mean*, assign 25 to the corresponding value in *f*. If a value in *d* is larger than *d_mean* but smaller than *d_max*, assign 75 to the corresponding value in *f*. If a value equals to *d_mean*, assign 50 to the corresponding value in *f*. Assign 0 to the corresponding value(s) in *f* for *d_min* in *d*. Assign 100 to the corresponding value(s) in *f* for *d_max* in *d*. In the end, f should have only the following values: 0, 25, 50, 75, and 100.\n",
    "\n",
    "**Note**: you don't have to use Numpy in this question."
   ]
  },
  {
   "cell_type": "code",
   "execution_count": 18,
   "metadata": {},
   "outputs": [],
   "source": [
    "# your code here\n",
    "f = []\n",
    "for x in np.nditer(d):\n",
    "    if d_min < x < d_mean:\n",
    "        f += [25]\n",
    "        \n",
    "    if d_mean < x < d_max:\n",
    "        f += [75]\n",
    "        \n",
    "    if x == d_mean:\n",
    "        f += [50]\n",
    "        \n",
    "    if x == d_min:\n",
    "        f += [0]\n",
    "        \n",
    "    if x == d_max:\n",
    "        f += [100]\n",
    "    \n",
    "        \n",
    "f = np.reshape(f, d.shape)"
   ]
  },
  {
   "cell_type": "markdown",
   "metadata": {},
   "source": [
    "#### 17. Print *d* and *f*. Do you have your expected *f*?\n",
    "For instance, if your *d* is:\n",
    "```python\n",
    "[[[1.85836099, 1.67064465, 1.62576044, 1.40243961, 1.88454931],\n",
    "[1.75354326, 1.69403643, 1.36729252, 1.61415071, 1.12104981],\n",
    "[1.72201435, 1.1862918 , 1.87078449, 1.7726778 , 1.88180042]],\n",
    "[[1.44747908, 1.31673383, 1.02000951, 1.52218947, 1.97066381],\n",
    "[1.79129243, 1.74983003, 1.96028037, 1.85166831, 1.65450881],\n",
    "[1.18068344, 1.9587381 , 1.00656599, 1.93402165, 1.73514584]]]\n",
    "```\n",
    "Your *f* should be:\n",
    "```python\n",
    "[[[ 75.,  75.,  75.,  25.,  75.],\n",
    "[ 75.,  75.,  25.,  25.,  25.],\n",
    "[ 75.,  25.,  75.,  75.,  75.]],\n",
    "[[ 25.,  25.,  25.,  25., 100.],\n",
    "[ 75.,  75.,  75.,  75.,  75.],\n",
    "[ 25.,  75.,   0.,  75.,  75.]]]\n",
    "```"
   ]
  },
  {
   "cell_type": "code",
   "execution_count": 19,
   "metadata": {},
   "outputs": [
    {
     "name": "stdout",
     "output_type": "stream",
     "text": [
      "[[[1.87973572 1.37106406 1.10176814 1.89695192 1.23479521]\n",
      "  [1.15770891 1.38786598 1.89559283 1.43137559 1.32666925]\n",
      "  [1.04464966 1.38412284 1.10777366 1.13067568 1.39943784]]\n",
      "\n",
      " [[1.74909923 1.1480736  1.28680112 1.6044225  1.67980595]\n",
      "  [1.80999566 1.79146285 1.68533671 1.53400054 1.69154562]\n",
      "  [1.65366722 1.50555675 1.03370688 1.61698553 1.24400155]]] [[[ 75  25  25 100  25]\n",
      "  [ 25  25  75  25  25]\n",
      "  [ 25  25  25  25  25]]\n",
      "\n",
      " [[ 75  25  25  75  75]\n",
      "  [ 75  75  75  75  75]\n",
      "  [ 75  75   0  75  25]]]\n"
     ]
    }
   ],
   "source": [
    "# your code here\n",
    "print(d, f)"
   ]
  },
  {
   "cell_type": "markdown",
   "metadata": {},
   "source": [
    "#### 18. Bonus question: instead of using numbers (i.e. 0, 25, 50, 75, and 100), use string values  (\"A\", \"B\", \"C\", \"D\", and \"E\") to label the array elements. For the example above, the expected result is:\n",
    "\n",
    "```python\n",
    "[[[ 'D',  'D',  'D',  'B',  'D'],\n",
    "[ 'D',  'D',  'B',  'B',  'B'],\n",
    "[ 'D',  'B',  'D',  'D',  'D']],\n",
    "[[ 'B',  'B',  'B',  'B',  'E'],\n",
    "[ 'D',  'D',  'D',  'D',  'D'],\n",
    "[ 'B',  'D',   'A',  'D', 'D']]]\n",
    "```\n",
    "**Note**: you don't have to use Numpy in this question."
   ]
  },
  {
   "cell_type": "code",
   "execution_count": 21,
   "metadata": {},
   "outputs": [
    {
     "name": "stdout",
     "output_type": "stream",
     "text": [
      "[[['D' 'B' 'B' 'E' 'B']\n",
      "  ['B' 'B' 'D' 'B' 'B']\n",
      "  ['B' 'B' 'B' 'B' 'B']]\n",
      "\n",
      " [['D' 'B' 'B' 'D' 'D']\n",
      "  ['D' 'D' 'D' 'D' 'D']\n",
      "  ['D' 'D' 'A' 'D' 'B']]]\n"
     ]
    }
   ],
   "source": [
    "# your code here\n",
    "j = list()\n",
    "for x in np.nditer(d):\n",
    "    if d_min < x < d_mean:\n",
    "        j += ['B']\n",
    "        \n",
    "    if d_mean < x < d_max:\n",
    "        j += ['D']\n",
    "        \n",
    "    if x == d_mean:\n",
    "        j += ['C']\n",
    "        \n",
    "    if x == d_min:\n",
    "        j += ['A']\n",
    "        \n",
    "    if x == d_max:\n",
    "        j += ['E']\n",
    "    \n",
    "j = np.reshape(j, d.shape) \n",
    "print(j)"
   ]
  },
  {
   "cell_type": "code",
   "execution_count": null,
   "metadata": {},
   "outputs": [],
   "source": []
  }
 ],
 "metadata": {
  "kernelspec": {
   "display_name": "Python 3",
   "language": "python",
   "name": "python3"
  },
  "language_info": {
   "codemirror_mode": {
    "name": "ipython",
    "version": 3
   },
   "file_extension": ".py",
   "mimetype": "text/x-python",
   "name": "python",
   "nbconvert_exporter": "python",
   "pygments_lexer": "ipython3",
   "version": "3.7.6"
  }
 },
 "nbformat": 4,
 "nbformat_minor": 2
}
