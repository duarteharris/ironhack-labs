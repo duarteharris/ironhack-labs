{
 "cells": [
  {
   "cell_type": "markdown",
   "metadata": {},
   "source": [
    "## Challenge 2: Sets\n",
    "\n",
    "There are a lot to learn about Python Sets and the information presented in the lesson is limited due to its length. To learn Python Sets in depth you are strongly encouraged to review the W3Schools tutorial on [Python Sets Examples and Methods](https://www.w3schools.com/python/python_sets.asp) before you work on this lab. Some difficult questions in this lab have their solutions in the W3Schools tutorial.\n",
    "\n",
    "#### First, import the Python `random` libary"
   ]
  },
  {
   "cell_type": "code",
   "execution_count": 1,
   "metadata": {},
   "outputs": [],
   "source": [
    "import random"
   ]
  },
  {
   "cell_type": "markdown",
   "metadata": {},
   "source": [
    "#### In the cell below, create a list named `sample_list_1` with 80 random values. \n",
    "\n",
    "Requirements:\n",
    "\n",
    "* Each value is an integer falling between 0 and 100.\n",
    "* Each value in the list is unique.\n",
    "\n",
    "Print `sample_list_1` to review its values\n",
    "\n",
    "*Hint: use `random.sample` ([reference](https://docs.python.org/3/library/random.html#random.sample)).*"
   ]
  },
  {
   "cell_type": "code",
   "execution_count": 6,
   "metadata": {},
   "outputs": [
    {
     "name": "stdout",
     "output_type": "stream",
     "text": [
      "The list has a lenght of: 80\n",
      "['64 is unique', '52 is unique', '74 is unique', '55 is unique', '80 is unique', '78 is unique', '33 is unique', '53 is unique', '11 is unique', '39 is unique', '38 is unique', '21 is unique', '94 is unique', '89 is unique', '73 is unique', '31 is unique', '41 is unique', '49 is unique', '98 is unique', '90 is unique', '59 is unique', '35 is unique', '8 is unique', '28 is unique', '42 is unique', '84 is unique', '26 is unique', '91 is unique', '14 is unique', '5 is unique', '2 is unique', '30 is unique', '87 is unique', '6 is unique', '15 is unique', '68 is unique', '95 is unique', '32 is unique', '47 is unique', '22 is unique', '0 is unique', '93 is unique', '40 is unique', '66 is unique', '69 is unique', '20 is unique', '13 is unique', '70 is unique', '51 is unique', '67 is unique', '29 is unique', '65 is unique', '25 is unique', '7 is unique', '82 is unique', '71 is unique', '75 is unique', '100 is unique', '24 is unique', '96 is unique', '79 is unique', '1 is unique', '62 is unique', '54 is unique', '37 is unique', '46 is unique', '3 is unique', '45 is unique', '10 is unique', '16 is unique', '12 is unique', '57 is unique', '19 is unique', '23 is unique', '60 is unique', '27 is unique', '63 is unique', '99 is unique', '61 is unique', '58 is unique']\n"
     ]
    }
   ],
   "source": [
    "# Your code here\n",
    "\n",
    "# Creating the list w/80 random values\n",
    "sample_list_1 = list((random.sample(range(101), 80)))\n",
    "\n",
    "# Checking the lenght of the list\n",
    "print(\"The list has a lenght of:\", len(sample_list_1))\n",
    "\n",
    "# Confirming that each value is unique (occours only once in the list)\n",
    "print([f\"{v} is unique\" for v in sample_list_1 if sample_list_1.count(v) == 1])"
   ]
  },
  {
   "cell_type": "markdown",
   "metadata": {},
   "source": [
    "#### Convert `sample_list_1` to a set called `set1`. Print the length of the set. Is its length still 80?"
   ]
  },
  {
   "cell_type": "code",
   "execution_count": 7,
   "metadata": {},
   "outputs": [
    {
     "name": "stdout",
     "output_type": "stream",
     "text": [
      "80\n"
     ]
    }
   ],
   "source": [
    "# Your code here\n",
    "\n",
    "# Converting the list to a set\n",
    "set1 = set(sample_list_1)\n",
    "\n",
    "# Checking to make sure it maitined it's lenght\n",
    "print(len(set1))"
   ]
  },
  {
   "cell_type": "markdown",
   "metadata": {},
   "source": [
    "#### Create another list named `sample_list_2` with 80 random values.\n",
    "\n",
    "Requirements:\n",
    "\n",
    "* Each value is an integer falling between 0 and 100.\n",
    "* The values in the list don't have to be unique.\n",
    "\n",
    "*Hint: Use a FOR loop.*"
   ]
  },
  {
   "cell_type": "code",
   "execution_count": 8,
   "metadata": {},
   "outputs": [
    {
     "name": "stdout",
     "output_type": "stream",
     "text": [
      "[46, 87, 96, 39, 68, 32, 40, 47, 18, 92, 76, 81, 2, 23, 63, 55, 66, 33, 10, 36, 91, 3, 14, 59, 25, 34, 99, 24, 77, 75, 6, 84, 7, 4, 86, 9, 42, 5, 31, 69, 97, 70, 64, 83, 1, 52, 0, 35, 51, 20, 28, 15, 95, 65, 85, 78, 88, 49, 56, 79, 27, 43, 89, 37, 72, 21, 82, 53, 11, 60, 30, 94, 17, 73, 80, 41, 22, 54, 71, 38]\n"
     ]
    }
   ],
   "source": [
    "# Your code here\n",
    "\n",
    "# Creating the list\n",
    "sample_list_2 = random.sample(range(101), 80)\n",
    "\n",
    "print(sample_list_2)"
   ]
  },
  {
   "cell_type": "markdown",
   "metadata": {},
   "source": [
    "#### Convert `sample_list_2` to a set called `set2`. Print the length of the set. Is its length still 80?"
   ]
  },
  {
   "cell_type": "code",
   "execution_count": 9,
   "metadata": {},
   "outputs": [
    {
     "name": "stdout",
     "output_type": "stream",
     "text": [
      "80\n"
     ]
    }
   ],
   "source": [
    "# Your code here\n",
    "# Converting the list to a set\n",
    "set2 = set(sample_list_2)\n",
    "\n",
    "# Checking the lenght of the set\n",
    "print(len(set2))"
   ]
  },
  {
   "cell_type": "markdown",
   "metadata": {},
   "source": [
    "#### Identify the elements present in `set1` but not in `set2`. Assign the elements to a new set named `set3`."
   ]
  },
  {
   "cell_type": "code",
   "execution_count": 15,
   "metadata": {},
   "outputs": [
    {
     "name": "stdout",
     "output_type": "stream",
     "text": [
      "set1:\n",
      " [0, 1, 2, 3, 5, 6, 7, 8, 10, 11, 12, 13, 14, 15, 16, 19, 20, 21, 22, 23, 24, 25, 26, 27, 28, 29, 30, 31, 32, 33, 35, 37, 38, 39, 40, 41, 42, 45, 46, 47, 49, 51, 52, 53, 54, 55, 57, 58, 59, 60, 61, 62, 63, 64, 65, 66, 67, 68, 69, 70, 71, 73, 74, 75, 78, 79, 80, 82, 84, 87, 89, 90, 91, 93, 94, 95, 96, 98, 99, 100]\n",
      "\n",
      "set2:\n",
      " [0, 1, 2, 3, 4, 5, 6, 7, 9, 10, 11, 14, 15, 17, 18, 20, 21, 22, 23, 24, 25, 27, 28, 30, 31, 32, 33, 34, 35, 36, 37, 38, 39, 40, 41, 42, 43, 46, 47, 49, 51, 52, 53, 54, 55, 56, 59, 60, 63, 64, 65, 66, 68, 69, 70, 71, 72, 73, 75, 76, 77, 78, 79, 80, 81, 82, 83, 84, 85, 86, 87, 88, 89, 91, 92, 94, 95, 96, 97, 99]\n",
      "\n",
      "set3:\n",
      " [8, 12, 13, 16, 19, 26, 29, 45, 57, 58, 61, 62, 67, 74, 90, 93, 98, 100]\n"
     ]
    }
   ],
   "source": [
    "# Your code here\n",
    "\n",
    "# Checking the first set\n",
    "print(f\"set1:\\n {sorted(set1)}\\n\")\n",
    "\n",
    "# Checking the second set\n",
    "print(f\"set2:\\n {sorted(set2)}\\n\")\n",
    "\n",
    "# Identifying and assigning (to set3) the elements in set1 not in set2 \n",
    "set3 = set(set1.difference(set2))\n",
    "print(f\"set3:\\n {sorted(set3)}\")"
   ]
  },
  {
   "cell_type": "markdown",
   "metadata": {},
   "source": [
    "#### Identify the elements present in `set2` but not in `set1`. Assign the elements to a new set named `set4`."
   ]
  },
  {
   "cell_type": "code",
   "execution_count": 17,
   "metadata": {},
   "outputs": [
    {
     "name": "stdout",
     "output_type": "stream",
     "text": [
      "[4, 9, 17, 18, 34, 36, 43, 56, 72, 76, 77, 81, 83, 85, 86, 88, 92, 97]\n"
     ]
    }
   ],
   "source": [
    "# Your code here\n",
    "\n",
    "# Identifying and assigning (to set4) the elements in set2 not in set1\n",
    "set4 = set2.difference(set1)\n",
    "print(sorted(set4))"
   ]
  },
  {
   "cell_type": "markdown",
   "metadata": {},
   "source": [
    "#### Now Identify the elements shared between `set1` and `set2`. Assign the elements to a new set named `set5`."
   ]
  },
  {
   "cell_type": "code",
   "execution_count": 19,
   "metadata": {},
   "outputs": [
    {
     "name": "stdout",
     "output_type": "stream",
     "text": [
      "[0, 1, 2, 3, 5, 6, 7, 10, 11, 14, 15, 20, 21, 22, 23, 24, 25, 27, 28, 30, 31, 32, 33, 35, 37, 38, 39, 40, 41, 42, 46, 47, 49, 51, 52, 53, 54, 55, 59, 60, 63, 64, 65, 66, 68, 69, 70, 71, 73, 75, 78, 79, 80, 82, 84, 87, 89, 91, 94, 95, 96, 99]\n"
     ]
    }
   ],
   "source": [
    "# Your code here\n",
    "\n",
    "# Identifying and assigning (to set5) the common elements in set1 and set2\n",
    "set5 = set1.intersection(set2)\n",
    "print(sorted(set5))\n"
   ]
  },
  {
   "cell_type": "markdown",
   "metadata": {},
   "source": [
    "#### What is the relationship among the following values:\n",
    "\n",
    "* len(set1)\n",
    "* len(set2)\n",
    "* len(set3)\n",
    "* len(set4)\n",
    "* len(set5)\n",
    "\n",
    "Use a math formular to represent that relationship. Test your formular with Python code."
   ]
  },
  {
   "cell_type": "code",
   "execution_count": 20,
   "metadata": {},
   "outputs": [
    {
     "name": "stdout",
     "output_type": "stream",
     "text": [
      "1.0\n",
      "4.444444444444445\n",
      "4.444444444444445\n",
      "1.0\n",
      "0.2903225806451613\n",
      "0.2903225806451613\n"
     ]
    }
   ],
   "source": [
    "# Your code here\n",
    "\n",
    "# fuction to calculate A relationship between sets\n",
    "def relationship(a_set, another_set):\n",
    "    return len(a_set) / len(another_set)\n",
    "\n",
    "# relationship between diferent sets\n",
    "print(relationship(set1, set2))\n",
    "print(relationship(set1, set3))\n",
    "print(relationship(set2, set3))\n",
    "print(relationship(set3, set4))\n",
    "print(relationship(set3, set5))\n",
    "print(relationship(set4, set5))"
   ]
  },
  {
   "cell_type": "markdown",
   "metadata": {},
   "source": [
    "#### Create an empty set called `set6`."
   ]
  },
  {
   "cell_type": "code",
   "execution_count": 21,
   "metadata": {},
   "outputs": [],
   "source": [
    "# Your code here\n",
    "\n",
    "# creating an empty set\n",
    "set6 = set()\n",
    "#print(type(set6))\n"
   ]
  },
  {
   "cell_type": "markdown",
   "metadata": {},
   "source": [
    "#### Add `set3` and `set5` to `set6` using the Python Set `update` method."
   ]
  },
  {
   "cell_type": "code",
   "execution_count": 22,
   "metadata": {},
   "outputs": [
    {
     "name": "stdout",
     "output_type": "stream",
     "text": [
      "{0, 1, 2, 3, 5, 6, 7, 8, 10, 11, 12, 13, 14, 15, 16, 19, 20, 21, 22, 23, 24, 25, 26, 27, 28, 29, 30, 31, 32, 33, 35, 37, 38, 39, 40, 41, 42, 45, 46, 47, 49, 51, 52, 53, 54, 55, 57, 58, 59, 60, 61, 62, 63, 64, 65, 66, 67, 68, 69, 70, 71, 73, 74, 75, 78, 79, 80, 82, 84, 87, 89, 90, 91, 93, 94, 95, 96, 98, 99, 100}\n"
     ]
    }
   ],
   "source": [
    "# Your code here\n",
    "\n",
    "# Adding set3 and set5 to set6 by the use of the update method\n",
    "set6.update(set3, set5)\n",
    "\n",
    "print(set6)"
   ]
  },
  {
   "cell_type": "markdown",
   "metadata": {},
   "source": [
    "#### Check if `set1` and `set6` are equal."
   ]
  },
  {
   "cell_type": "code",
   "execution_count": 23,
   "metadata": {},
   "outputs": [
    {
     "name": "stdout",
     "output_type": "stream",
     "text": [
      "True\n"
     ]
    }
   ],
   "source": [
    "# Your code here\n",
    "\n",
    "# Checking if set1 and set6 are equal (True)\n",
    "print(set1 == set6)"
   ]
  },
  {
   "cell_type": "markdown",
   "metadata": {},
   "source": [
    "#### Check if `set1` contains `set2` using the Python Set `issubset` method. Then check if `set1` contains `set3`.*"
   ]
  },
  {
   "cell_type": "code",
   "execution_count": 24,
   "metadata": {},
   "outputs": [
    {
     "name": "stdout",
     "output_type": "stream",
     "text": [
      "False\n",
      "True\n"
     ]
    }
   ],
   "source": [
    "# Your code here\n",
    "\n",
    "# Checking if set1 contains set2 using the issubset method (True)\n",
    "print(set2.issubset(set1))\n",
    "\n",
    "# Checking if set1 contains set3 using the same method\n",
    "print(set3.issubset(set1))"
   ]
  },
  {
   "cell_type": "markdown",
   "metadata": {},
   "source": [
    "#### Using the Python Set `union` method, aggregate `set3`, `set4`, and `set5`. Then aggregate `set1` and `set2`. \n",
    "\n",
    "#### Check if the aggregated values are equal."
   ]
  },
  {
   "cell_type": "code",
   "execution_count": 27,
   "metadata": {},
   "outputs": [
    {
     "name": "stdout",
     "output_type": "stream",
     "text": [
      "{0, 1, 2, 3, 4, 5, 6, 7, 8, 9, 10, 11, 12, 13, 14, 15, 16, 17, 18, 19, 20, 21, 22, 23, 24, 25, 26, 27, 28, 29, 30, 31, 32, 33, 34, 35, 36, 37, 38, 39, 40, 41, 42, 43, 45, 46, 47, 49, 51, 52, 53, 54, 55, 56, 57, 58, 59, 60, 61, 62, 63, 64, 65, 66, 67, 68, 69, 70, 71, 72, 73, 74, 75, 76, 77, 78, 79, 80, 81, 82, 83, 84, 85, 86, 87, 88, 89, 90, 91, 92, 93, 94, 95, 96, 97, 98, 99, 100} \n",
      "\n",
      "{0, 1, 2, 3, 4, 5, 6, 7, 8, 9, 10, 11, 12, 13, 14, 15, 16, 17, 18, 19, 20, 21, 22, 23, 24, 25, 26, 27, 28, 29, 30, 31, 32, 33, 34, 35, 36, 37, 38, 39, 40, 41, 42, 43, 45, 46, 47, 49, 51, 52, 53, 54, 55, 56, 57, 58, 59, 60, 61, 62, 63, 64, 65, 66, 67, 68, 69, 70, 71, 72, 73, 74, 75, 76, 77, 78, 79, 80, 81, 82, 83, 84, 85, 86, 87, 88, 89, 90, 91, 92, 93, 94, 95, 96, 97, 98, 99, 100} \n",
      "\n",
      "True\n"
     ]
    }
   ],
   "source": [
    "# Your code here\n",
    "\n",
    "# Aggregating set3, set4 and seet5 trhough the union method\n",
    "set345agg = set3.union(set4, set5)\n",
    "print(set345agg, \"\\n\")\n",
    "\n",
    "# Aggregating set1 and set2 through the same method\n",
    "set12agg = set1.union(set2)\n",
    "print(set12agg, \"\\n\")\n",
    "\n",
    "# Checking if the aggregated vvalues are equal (True)\n",
    "print(set345agg == set12agg)"
   ]
  },
  {
   "cell_type": "markdown",
   "metadata": {},
   "source": [
    "#### Using the `pop` method, remove the first element from `set1`."
   ]
  },
  {
   "cell_type": "code",
   "execution_count": 28,
   "metadata": {},
   "outputs": [
    {
     "data": {
      "text/plain": [
       "0"
      ]
     },
     "execution_count": 28,
     "metadata": {},
     "output_type": "execute_result"
    }
   ],
   "source": [
    "# Your code here\n",
    "\n",
    "\"\"\"\n",
    "The pop method removes the last element of the set, which, since the sets are unordered, the\n",
    "last element will be a random one.\n",
    "\"\"\"\n",
    "\n",
    "# Using the pop method to remove AN element from set1\n",
    "set1.pop()"
   ]
  },
  {
   "cell_type": "markdown",
   "metadata": {},
   "source": [
    "#### Remove every element in the following list from `set1` if they are present in the set. Print the remaining elements.\n",
    "\n",
    "```\n",
    "list_to_remove = [1, 9, 11, 19, 21, 29, 31, 39, 41, 49, 51, 59, 61, 69, 71, 79, 81, 89, 91, 99]\n",
    "```"
   ]
  },
  {
   "cell_type": "code",
   "execution_count": 29,
   "metadata": {},
   "outputs": [
    {
     "name": "stdout",
     "output_type": "stream",
     "text": [
      "{1, 2, 3, 5, 6, 7, 8, 10, 11, 12, 13, 14, 15, 16, 19, 20, 21, 22, 23, 24, 25, 26, 27, 28, 29, 30, 31, 32, 33, 35, 37, 38, 39, 40, 41, 42, 45, 46, 47, 49, 51, 52, 53, 54, 55, 57, 58, 59, 60, 61, 62, 63, 64, 65, 66, 67, 68, 69, 70, 71, 73, 74, 75, 78, 79, 80, 82, 84, 87, 89, 90, 91, 93, 94, 95, 96, 98, 99, 100}\n"
     ]
    }
   ],
   "source": [
    "# Your code here\n",
    "\n",
    "# List of elements to remove\n",
    "list_to_remove = [1, 9, 11, 19, 21, 29, 31, 39, 41, 49, 51, 59, 61, 69, 71, 79, 81, 89, 91, 99]\n",
    "\n",
    "# Converting the list_to_remove into a set\n",
    "set_to_remove = set(list_to_remove)\n",
    "\n",
    "# Removing elements in set1 that are present in list_to_remove\n",
    "set1.difference(set_to_remove)\n",
    "print(set1)\n"
   ]
  },
  {
   "cell_type": "code",
   "execution_count": null,
   "metadata": {},
   "outputs": [],
   "source": []
  }
 ],
 "metadata": {
  "kernelspec": {
   "display_name": "Python 3",
   "language": "python",
   "name": "python3"
  },
  "language_info": {
   "codemirror_mode": {
    "name": "ipython",
    "version": 3
   },
   "file_extension": ".py",
   "mimetype": "text/x-python",
   "name": "python",
   "nbconvert_exporter": "python",
   "pygments_lexer": "ipython3",
   "version": "3.7.6"
  }
 },
 "nbformat": 4,
 "nbformat_minor": 2
}
