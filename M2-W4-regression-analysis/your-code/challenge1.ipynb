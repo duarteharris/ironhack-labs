{
 "cells": [
  {
   "cell_type": "markdown",
   "metadata": {},
   "source": [
    "# Lab: Regression Analysis"
   ]
  },
  {
   "cell_type": "markdown",
   "metadata": {},
   "source": [
    "### Before you start:\n",
    "\n",
    "* Read the README.md file\n",
    "* Comment as much as you can and use the resources (README.md file) \n",
    "\n",
    "Happy learning!"
   ]
  },
  {
   "cell_type": "markdown",
   "metadata": {},
   "source": [
    "## Challenge 1\n",
    "I work at a coding bootcamp, and I have developed a theory that the younger my students are, the more often they are late to class. In order to test my hypothesis, I have collected some data in the following table:\n",
    "\n",
    "| StudentID | Age | Tardies |\n",
    "|--------|-----|------------|\n",
    "| 1      | 17  | 10         |\n",
    "| 2      | 51  | 1          |\n",
    "| 3      | 27  | 5          |\n",
    "| 4      | 21  | 9         |\n",
    "| 5      | 36  |  4         |\n",
    "| 6      | 48  |  2         |\n",
    "| 7      | 19  |  9         |\n",
    "| 8      | 26  | 6          |\n",
    "| 9      | 54  |  0         |\n",
    "| 10     | 30  |  3         |"
   ]
  },
  {
   "cell_type": "markdown",
   "metadata": {},
   "source": [
    "Use this command to create a dataframe with the data provided in the table. \n",
    "~~~~\n",
    "student_data = pd.DataFrame({'X': [x_values], 'Y': [y_values]})\n",
    "~~~~"
   ]
  },
  {
   "cell_type": "code",
   "execution_count": 1,
   "metadata": {},
   "outputs": [
    {
     "name": "stdout",
     "output_type": "stream",
     "text": [
      "The Zen of Python, by Tim Peters\n",
      "\n",
      "Beautiful is better than ugly.\n",
      "Explicit is better than implicit.\n",
      "Simple is better than complex.\n",
      "Complex is better than complicated.\n",
      "Flat is better than nested.\n",
      "Sparse is better than dense.\n",
      "Readability counts.\n",
      "Special cases aren't special enough to break the rules.\n",
      "Although practicality beats purity.\n",
      "Errors should never pass silently.\n",
      "Unless explicitly silenced.\n",
      "In the face of ambiguity, refuse the temptation to guess.\n",
      "There should be one-- and preferably only one --obvious way to do it.\n",
      "Although that way may not be obvious at first unless you're Dutch.\n",
      "Now is better than never.\n",
      "Although never is often better than *right* now.\n",
      "If the implementation is hard to explain, it's a bad idea.\n",
      "If the implementation is easy to explain, it may be a good idea.\n",
      "Namespaces are one honking great idea -- let's do more of those!\n",
      "\n",
      "pandas version: 1.0.1\n",
      "statsmodels version: 0.11.1\n"
     ]
    }
   ],
   "source": [
    "# Libraries \n",
    "import pandas as pd\n",
    "import matplotlib.pyplot as plt\n",
    "import seaborn as sns\n",
    "import statsmodels.api as sm\n",
    "from scipy import stats\n",
    "import this\n",
    "\n",
    "print()\n",
    "print(\"pandas version:\", pd.__version__)\n",
    "print(\"statsmodels version:\", sm.__version__)"
   ]
  },
  {
   "cell_type": "code",
   "execution_count": 2,
   "metadata": {},
   "outputs": [
    {
     "data": {
      "text/html": [
       "<div>\n",
       "<style scoped>\n",
       "    .dataframe tbody tr th:only-of-type {\n",
       "        vertical-align: middle;\n",
       "    }\n",
       "\n",
       "    .dataframe tbody tr th {\n",
       "        vertical-align: top;\n",
       "    }\n",
       "\n",
       "    .dataframe thead th {\n",
       "        text-align: right;\n",
       "    }\n",
       "</style>\n",
       "<table border=\"1\" class=\"dataframe\">\n",
       "  <thead>\n",
       "    <tr style=\"text-align: right;\">\n",
       "      <th></th>\n",
       "      <th>X</th>\n",
       "      <th>Y</th>\n",
       "    </tr>\n",
       "  </thead>\n",
       "  <tbody>\n",
       "    <tr>\n",
       "      <th>0</th>\n",
       "      <td>17</td>\n",
       "      <td>10</td>\n",
       "    </tr>\n",
       "    <tr>\n",
       "      <th>1</th>\n",
       "      <td>51</td>\n",
       "      <td>1</td>\n",
       "    </tr>\n",
       "    <tr>\n",
       "      <th>2</th>\n",
       "      <td>27</td>\n",
       "      <td>5</td>\n",
       "    </tr>\n",
       "    <tr>\n",
       "      <th>3</th>\n",
       "      <td>21</td>\n",
       "      <td>9</td>\n",
       "    </tr>\n",
       "    <tr>\n",
       "      <th>4</th>\n",
       "      <td>36</td>\n",
       "      <td>4</td>\n",
       "    </tr>\n",
       "    <tr>\n",
       "      <th>5</th>\n",
       "      <td>48</td>\n",
       "      <td>2</td>\n",
       "    </tr>\n",
       "    <tr>\n",
       "      <th>6</th>\n",
       "      <td>19</td>\n",
       "      <td>9</td>\n",
       "    </tr>\n",
       "    <tr>\n",
       "      <th>7</th>\n",
       "      <td>26</td>\n",
       "      <td>6</td>\n",
       "    </tr>\n",
       "    <tr>\n",
       "      <th>8</th>\n",
       "      <td>54</td>\n",
       "      <td>0</td>\n",
       "    </tr>\n",
       "    <tr>\n",
       "      <th>9</th>\n",
       "      <td>30</td>\n",
       "      <td>3</td>\n",
       "    </tr>\n",
       "  </tbody>\n",
       "</table>\n",
       "</div>"
      ],
      "text/plain": [
       "    X   Y\n",
       "0  17  10\n",
       "1  51   1\n",
       "2  27   5\n",
       "3  21   9\n",
       "4  36   4\n",
       "5  48   2\n",
       "6  19   9\n",
       "7  26   6\n",
       "8  54   0\n",
       "9  30   3"
      ]
     },
     "execution_count": 2,
     "metadata": {},
     "output_type": "execute_result"
    }
   ],
   "source": [
    "# Your code here.\n",
    "\n",
    "# Setting the columns Values\n",
    "Age, Tardies = [17,51,27,21,36,48,19,26,54,30], [10,1,5,9,4,2,9,6,0,3]\n",
    "\n",
    "# Creating the DataFrame\n",
    "student_data = pd.DataFrame({'X': Age, 'Y': Tardies})\n",
    "\n",
    "student_data"
   ]
  },
  {
   "cell_type": "markdown",
   "metadata": {},
   "source": [
    "Draw a dispersion diagram (scatter plot) for the data."
   ]
  },
  {
   "cell_type": "code",
   "execution_count": 3,
   "metadata": {},
   "outputs": [
    {
     "data": {
      "text/plain": [
       "<matplotlib.axes._subplots.AxesSubplot at 0x7f84c08e1cd0>"
      ]
     },
     "execution_count": 3,
     "metadata": {},
     "output_type": "execute_result"
    },
    {
     "data": {
      "image/png": "[encoded data removed]",
      "text/plain": [
       "<Figure size 432x288 with 1 Axes>"
      ]
     },
     "metadata": {
      "needs_background": "light"
     },
     "output_type": "display_data"
    }
   ],
   "source": [
    "# Your code here.\n",
    "plt.figure()\n",
    "sns.regplot(x = \"X\", y = \"Y\", data = student_data)"
   ]
  },
  {
   "cell_type": "markdown",
   "metadata": {},
   "source": [
    "Do you see a trend? Can you make any hypotheses about the relationship between age and number of tardies?"
   ]
  },
  {
   "cell_type": "code",
   "execution_count": 4,
   "metadata": {},
   "outputs": [
    {
     "data": {
      "text/plain": [
       "'\\nIt seems to have a negative correlation, i.e., that the younger the student, the more likely \\n(s)he is of being late to class, confirming the initial hypothesis.\\n'"
      ]
     },
     "execution_count": 4,
     "metadata": {},
     "output_type": "execute_result"
    }
   ],
   "source": [
    "# Your response here. \n",
    "\"\"\"\n",
    "It seems to have a negative correlation, i.e., that the younger the student, the more likely \n",
    "(s)he is of being late to class, confirming the initial hypothesis.\n",
    "\"\"\""
   ]
  },
  {
   "cell_type": "markdown",
   "metadata": {},
   "source": [
    "Calculate the covariance and correlation of the variables in your plot. What is the difference between these two measures? Compare their values. What do they tell you in this case? Add your responses as comments after your code."
   ]
  },
  {
   "cell_type": "code",
   "execution_count": 5,
   "metadata": {},
   "outputs": [
    {
     "name": "stdout",
     "output_type": "stream",
     "text": [
      "          X         Y\n",
      "X  1.000000 -0.939163\n",
      "Y -0.939163  1.000000\n",
      "            X          Y\n",
      "X  187.655556 -45.566667\n",
      "Y  -45.566667  12.544444\n"
     ]
    },
    {
     "data": {
      "text/plain": [
       "\"\\nThe Correlation Coefficient is a measure of how two variables move in relation to one \\nanother. A perfect positive correlation (1) means that when the value in one variable goes\\nup, so does the other in equal measure. A perfect negative correlation (-1) means that when\\nthe value of one variable goes up, the other goes down (and vice-versa) in equal measure. 0\\nmeans that there's no correlation. So the closer to the extremes (1 or -1), the stronger the\\ncorrelation, while the closer to 0 the less correlated the two variables are.\\n\\nCovariance is a similar idea, but with absolute (instead of relative) proportions. In this \\ncase (for example), a -45.56(6) means that when value goes up 1, the other goes down \\n45.55(6). The most 'understandable'/revealing thing about the covariance is the sign \\n(positive or negative), for it shows the tendency of the relationship.\\n\\nIn this case they tell me that the two variables are strongly negatively correlated, meaning\\nthat the older the student the less likely (s)he is of being latte (and vice-versa).\\n\""
      ]
     },
     "execution_count": 5,
     "metadata": {},
     "output_type": "execute_result"
    }
   ],
   "source": [
    "# Your response here.\n",
    "#correlation:\n",
    "print(student_data.corr())\n",
    "\n",
    "#covariance:\n",
    "print(student_data.cov())\n",
    "\n",
    "\"\"\"\n",
    "The Correlation Coefficient is a measure of how two variables move in relation to one \n",
    "another. A perfect positive correlation (1) means that when the value in one variable goes\n",
    "up, so does the other in equal measure. A perfect negative correlation (-1) means that when\n",
    "the value of one variable goes up, the other goes down (and vice-versa) in equal measure. 0\n",
    "means that there's no correlation. So the closer to the extremes (1 or -1), the stronger the\n",
    "correlation, while the closer to 0 the less correlated the two variables are.\n",
    "\n",
    "Covariance is a similar idea, but with absolute (instead of relative) proportions. In this \n",
    "case (for example), a -45.56(6) means that when value goes up 1, the other goes down \n",
    "45.55(6). The most 'understandable'/revealing thing about the covariance is the sign \n",
    "(positive or negative), for it shows the tendency of the relationship.\n",
    "\n",
    "In this case they tell me that the two variables are strongly negatively correlated, meaning\n",
    "that the older the student the less likely (s)he is of being latte (and vice-versa).\n",
    "\"\"\""
   ]
  },
  {
   "cell_type": "markdown",
   "metadata": {},
   "source": [
    "Build a regression model for this data. What will be your outcome variable? What type of regression are you using? Add your responses as comments after your code."
   ]
  },
  {
   "cell_type": "code",
   "execution_count": 6,
   "metadata": {},
   "outputs": [
    {
     "name": "stdout",
     "output_type": "stream",
     "text": [
      "The slope is: -0.2428207709159808\n",
      "The intercept is: 12.888803363135768\n"
     ]
    },
    {
     "data": {
      "text/plain": [
       "0    1.633022\n",
       "1    4.899065\n",
       "2    2.593623\n",
       "3    2.017262\n",
       "4    3.458164\n",
       "5    4.610885\n",
       "6    1.825142\n",
       "7    2.497563\n",
       "8    5.187245\n",
       "9    2.881803\n",
       "dtype: float64"
      ]
     },
     "execution_count": 6,
     "metadata": {},
     "output_type": "execute_result"
    }
   ],
   "source": [
    "# Your response here.\n",
    "# defining x and y\n",
    "x, y = student_data[\"X\"], student_data[\"Y\"]\n",
    "\n",
    "# calculating the intercept and slope\n",
    "slope, intercept, r_value, p_value, std_err = stats.linregress(x, y)\n",
    "\n",
    "print (\"The slope is:\", slope)\n",
    "print (\"The intercept is:\", intercept)\n",
    "\n",
    "# Building the model\n",
    "model = sm.OLS(y, x)\n",
    "\n",
    "# fitting the model\n",
    "results = model.fit()\n",
    "\n",
    "# making the predictions\n",
    "predictions = results.predict(x)\n",
    "\n",
    "predictions"
   ]
  },
  {
   "cell_type": "markdown",
   "metadata": {},
   "source": [
    "Plot your regression model on your scatter plot."
   ]
  },
  {
   "cell_type": "code",
   "execution_count": 7,
   "metadata": {},
   "outputs": [
    {
     "data": {
      "text/plain": [
       "<matplotlib.axes._subplots.AxesSubplot at 0x7f847005ed90>"
      ]
     },
     "execution_count": 7,
     "metadata": {},
     "output_type": "execute_result"
    },
    {
     "data": {
      "image/png": "[encoded data removed]",
      "text/plain": [
       "<Figure size 432x288 with 1 Axes>"
      ]
     },
     "metadata": {
      "needs_background": "light"
     },
     "output_type": "display_data"
    }
   ],
   "source": [
    "# Your code here.\n",
    "sns.regplot(x = \"X\", y = \"Y\", data = student_data)"
   ]
  },
  {
   "cell_type": "markdown",
   "metadata": {},
   "source": [
    "Interpret the results of your model. What can conclusions can you draw from your model and how confident in these conclusions are you? Can we say that age is a good predictor of tardiness? Add your responses as comments after your code."
   ]
  },
  {
   "cell_type": "code",
   "execution_count": 8,
   "metadata": {},
   "outputs": [
    {
     "name": "stdout",
     "output_type": "stream",
     "text": [
      "p-value is: 5.56665383455343e-05\n",
      "r-squared is: 0.8820265558250108\n",
      "\n",
      "We CAN reject the Null Hypothesis at a 0.05 level. (i.e there is a relationship between the two variables)\n",
      "\n",
      "This r-squared indicates that 88.2% of the variance in tardiness can be explained by age.\n"
     ]
    }
   ],
   "source": [
    "# Your response here. \n",
    "# defining alpha @ 5%\n",
    "alpha = 0.05\n",
    "\n",
    "# checking the p-value and r2\n",
    "print(\"p-value is:\", p_value)\n",
    "print(\"r-squared is:\", (r_value ** 2))\n",
    "\n",
    "# Conclusion from the p_value\n",
    "print(f\"\\nWe CAN reject the Null Hypothesis at a {alpha} level. (i.e there is a relationship between the two variables)\") \\\n",
    "if p_value < alpha else print(f\"We CANNOT reject the Null hypothesis at a {alpha} level. (i.e. there's no relationship)\")\n",
    "\n",
    "# Conclusion from the r2\n",
    "print(f\"\\nThis r-squared indicates that {round((r_value ** 2) * 100, 2)}% of the variance in tardiness can be explained by age.\")"
   ]
  },
  {
   "cell_type": "markdown",
   "metadata": {},
   "source": [
    "## Challenge 2\n",
    "For the second part of this lab, we will use the vehicles.csv data set. You can find a copy of the dataset in the git hub folder. This dataset includes variables related to vehicle characteristics, including the model, make, and energy efficiency standards, as well as each car's CO2 emissions. As discussed in class the goal of this exercise is to predict vehicles' CO2 emissions based on several independent variables. "
   ]
  },
  {
   "cell_type": "code",
   "execution_count": 9,
   "metadata": {},
   "outputs": [
    {
     "name": "stdout",
     "output_type": "stream",
     "text": [
      "['challenge1.ipynb', '.ipynb_checkpoints']\n",
      "vehicles\n"
     ]
    },
    {
     "data": {
      "text/html": [
       "<div>\n",
       "<style scoped>\n",
       "    .dataframe tbody tr th:only-of-type {\n",
       "        vertical-align: middle;\n",
       "    }\n",
       "\n",
       "    .dataframe tbody tr th {\n",
       "        vertical-align: top;\n",
       "    }\n",
       "\n",
       "    .dataframe thead th {\n",
       "        text-align: right;\n",
       "    }\n",
       "</style>\n",
       "<table border=\"1\" class=\"dataframe\">\n",
       "  <thead>\n",
       "    <tr style=\"text-align: right;\">\n",
       "      <th></th>\n",
       "      <th>Make</th>\n",
       "      <th>Model</th>\n",
       "      <th>Year</th>\n",
       "      <th>Engine Displacement</th>\n",
       "      <th>Cylinders</th>\n",
       "      <th>Transmission</th>\n",
       "      <th>Drivetrain</th>\n",
       "      <th>Vehicle Class</th>\n",
       "      <th>Fuel Type</th>\n",
       "      <th>Fuel Barrels/Year</th>\n",
       "      <th>City MPG</th>\n",
       "      <th>Highway MPG</th>\n",
       "      <th>Combined MPG</th>\n",
       "      <th>CO2 Emission Grams/Mile</th>\n",
       "      <th>Fuel Cost/Year</th>\n",
       "    </tr>\n",
       "  </thead>\n",
       "  <tbody>\n",
       "    <tr>\n",
       "      <th>35947</th>\n",
       "      <td>smart</td>\n",
       "      <td>fortwo coupe</td>\n",
       "      <td>2013</td>\n",
       "      <td>1.0</td>\n",
       "      <td>3.0</td>\n",
       "      <td>Auto(AM5)</td>\n",
       "      <td>Rear-Wheel Drive</td>\n",
       "      <td>Two Seaters</td>\n",
       "      <td>Premium</td>\n",
       "      <td>9.155833</td>\n",
       "      <td>34</td>\n",
       "      <td>38</td>\n",
       "      <td>36</td>\n",
       "      <td>244.0</td>\n",
       "      <td>1100</td>\n",
       "    </tr>\n",
       "    <tr>\n",
       "      <th>35948</th>\n",
       "      <td>smart</td>\n",
       "      <td>fortwo coupe</td>\n",
       "      <td>2014</td>\n",
       "      <td>1.0</td>\n",
       "      <td>3.0</td>\n",
       "      <td>Auto(AM5)</td>\n",
       "      <td>Rear-Wheel Drive</td>\n",
       "      <td>Two Seaters</td>\n",
       "      <td>Premium</td>\n",
       "      <td>9.155833</td>\n",
       "      <td>34</td>\n",
       "      <td>38</td>\n",
       "      <td>36</td>\n",
       "      <td>243.0</td>\n",
       "      <td>1100</td>\n",
       "    </tr>\n",
       "    <tr>\n",
       "      <th>35949</th>\n",
       "      <td>smart</td>\n",
       "      <td>fortwo coupe</td>\n",
       "      <td>2015</td>\n",
       "      <td>1.0</td>\n",
       "      <td>3.0</td>\n",
       "      <td>Auto(AM5)</td>\n",
       "      <td>Rear-Wheel Drive</td>\n",
       "      <td>Two Seaters</td>\n",
       "      <td>Premium</td>\n",
       "      <td>9.155833</td>\n",
       "      <td>34</td>\n",
       "      <td>38</td>\n",
       "      <td>36</td>\n",
       "      <td>244.0</td>\n",
       "      <td>1100</td>\n",
       "    </tr>\n",
       "    <tr>\n",
       "      <th>35950</th>\n",
       "      <td>smart</td>\n",
       "      <td>fortwo coupe</td>\n",
       "      <td>2016</td>\n",
       "      <td>0.9</td>\n",
       "      <td>3.0</td>\n",
       "      <td>Auto(AM6)</td>\n",
       "      <td>Rear-Wheel Drive</td>\n",
       "      <td>Two Seaters</td>\n",
       "      <td>Premium</td>\n",
       "      <td>9.155833</td>\n",
       "      <td>34</td>\n",
       "      <td>39</td>\n",
       "      <td>36</td>\n",
       "      <td>246.0</td>\n",
       "      <td>1100</td>\n",
       "    </tr>\n",
       "    <tr>\n",
       "      <th>35951</th>\n",
       "      <td>smart</td>\n",
       "      <td>fortwo coupe</td>\n",
       "      <td>2016</td>\n",
       "      <td>0.9</td>\n",
       "      <td>3.0</td>\n",
       "      <td>Manual 5-spd</td>\n",
       "      <td>Rear-Wheel Drive</td>\n",
       "      <td>Two Seaters</td>\n",
       "      <td>Premium</td>\n",
       "      <td>9.417429</td>\n",
       "      <td>32</td>\n",
       "      <td>39</td>\n",
       "      <td>35</td>\n",
       "      <td>255.0</td>\n",
       "      <td>1150</td>\n",
       "    </tr>\n",
       "  </tbody>\n",
       "</table>\n",
       "</div>"
      ],
      "text/plain": [
       "        Make         Model  Year  Engine Displacement  Cylinders  \\\n",
       "35947  smart  fortwo coupe  2013                  1.0        3.0   \n",
       "35948  smart  fortwo coupe  2014                  1.0        3.0   \n",
       "35949  smart  fortwo coupe  2015                  1.0        3.0   \n",
       "35950  smart  fortwo coupe  2016                  0.9        3.0   \n",
       "35951  smart  fortwo coupe  2016                  0.9        3.0   \n",
       "\n",
       "       Transmission        Drivetrain Vehicle Class Fuel Type  \\\n",
       "35947     Auto(AM5)  Rear-Wheel Drive   Two Seaters   Premium   \n",
       "35948     Auto(AM5)  Rear-Wheel Drive   Two Seaters   Premium   \n",
       "35949     Auto(AM5)  Rear-Wheel Drive   Two Seaters   Premium   \n",
       "35950     Auto(AM6)  Rear-Wheel Drive   Two Seaters   Premium   \n",
       "35951  Manual 5-spd  Rear-Wheel Drive   Two Seaters   Premium   \n",
       "\n",
       "       Fuel Barrels/Year  City MPG  Highway MPG  Combined MPG  \\\n",
       "35947           9.155833        34           38            36   \n",
       "35948           9.155833        34           38            36   \n",
       "35949           9.155833        34           38            36   \n",
       "35950           9.155833        34           39            36   \n",
       "35951           9.417429        32           39            35   \n",
       "\n",
       "       CO2 Emission Grams/Mile  Fuel Cost/Year  \n",
       "35947                    244.0            1100  \n",
       "35948                    243.0            1100  \n",
       "35949                    244.0            1100  \n",
       "35950                    246.0            1100  \n",
       "35951                    255.0            1150  "
      ]
     },
     "execution_count": 9,
     "metadata": {},
     "output_type": "execute_result"
    }
   ],
   "source": [
    "# Import any libraries you may need & the data\n",
    "import numpy as np\n",
    "import os\n",
    "import re\n",
    "\n",
    "# Directories & Files\n",
    "print(os.listdir())\n",
    "\n",
    "# Datasets directory\n",
    "directory = \"../datasets/\"\n",
    "\n",
    "# creating the DataFrames dynamically\n",
    "# 1st step: store the names and filenames of the files as a key-value pair in a dictionary\n",
    "datasets = {f\"{re.sub('.csv', '', filename.lower())}\": filename for filename in os.listdir(directory)}\n",
    "\n",
    "# 2nd step: for each key in the datasets dictionary, create a DF\n",
    "for name in datasets:\n",
    "    print(name)\n",
    "    globals()[name] = pd.read_csv(directory + datasets[name])\n",
    "\n",
    "vehicles.head()\n",
    "vehicles.tail()"
   ]
  },
  {
   "cell_type": "markdown",
   "metadata": {},
   "source": [
    "Let's use the following variables for our analysis: Year, Cylinders, Fuel Barrels/Year, Combined MPG, and Fuel Cost/Year. We will use 'CO2 Emission Grams/Mile' as our outcome variable. \n",
    "\n",
    "Calculate the correlations between each of these variables and the outcome. Which variable do you think will be the most important in determining CO2 emissions? Which provides the least amount of helpful information for determining CO2 emissions? Add your responses as comments after your code."
   ]
  },
  {
   "cell_type": "code",
   "execution_count": 10,
   "metadata": {},
   "outputs": [
    {
     "data": {
      "text/html": [
       "<div>\n",
       "<style scoped>\n",
       "    .dataframe tbody tr th:only-of-type {\n",
       "        vertical-align: middle;\n",
       "    }\n",
       "\n",
       "    .dataframe tbody tr th {\n",
       "        vertical-align: top;\n",
       "    }\n",
       "\n",
       "    .dataframe thead th {\n",
       "        text-align: right;\n",
       "    }\n",
       "</style>\n",
       "<table border=\"1\" class=\"dataframe\">\n",
       "  <thead>\n",
       "    <tr style=\"text-align: right;\">\n",
       "      <th></th>\n",
       "      <th>Year</th>\n",
       "      <th>Cylinders</th>\n",
       "      <th>Fuel Barrels/Year</th>\n",
       "      <th>Combined MPG</th>\n",
       "      <th>Fuel Cost/Year</th>\n",
       "      <th>CO2 Emission Grams/Mile</th>\n",
       "    </tr>\n",
       "  </thead>\n",
       "  <tbody>\n",
       "    <tr>\n",
       "      <th>Year</th>\n",
       "      <td>1.00</td>\n",
       "      <td>0.08</td>\n",
       "      <td>-0.22</td>\n",
       "      <td>0.20</td>\n",
       "      <td>-0.09</td>\n",
       "      <td>-0.22</td>\n",
       "    </tr>\n",
       "    <tr>\n",
       "      <th>Cylinders</th>\n",
       "      <td>0.08</td>\n",
       "      <td>1.00</td>\n",
       "      <td>0.74</td>\n",
       "      <td>-0.70</td>\n",
       "      <td>0.78</td>\n",
       "      <td>0.75</td>\n",
       "    </tr>\n",
       "    <tr>\n",
       "      <th>Fuel Barrels/Year</th>\n",
       "      <td>-0.22</td>\n",
       "      <td>0.74</td>\n",
       "      <td>1.00</td>\n",
       "      <td>-0.91</td>\n",
       "      <td>0.92</td>\n",
       "      <td>0.99</td>\n",
       "    </tr>\n",
       "    <tr>\n",
       "      <th>Combined MPG</th>\n",
       "      <td>0.20</td>\n",
       "      <td>-0.70</td>\n",
       "      <td>-0.91</td>\n",
       "      <td>1.00</td>\n",
       "      <td>-0.88</td>\n",
       "      <td>-0.93</td>\n",
       "    </tr>\n",
       "    <tr>\n",
       "      <th>Fuel Cost/Year</th>\n",
       "      <td>-0.09</td>\n",
       "      <td>0.78</td>\n",
       "      <td>0.92</td>\n",
       "      <td>-0.88</td>\n",
       "      <td>1.00</td>\n",
       "      <td>0.93</td>\n",
       "    </tr>\n",
       "    <tr>\n",
       "      <th>CO2 Emission Grams/Mile</th>\n",
       "      <td>-0.22</td>\n",
       "      <td>0.75</td>\n",
       "      <td>0.99</td>\n",
       "      <td>-0.93</td>\n",
       "      <td>0.93</td>\n",
       "      <td>1.00</td>\n",
       "    </tr>\n",
       "  </tbody>\n",
       "</table>\n",
       "</div>"
      ],
      "text/plain": [
       "                         Year  Cylinders  Fuel Barrels/Year  Combined MPG  \\\n",
       "Year                     1.00       0.08              -0.22          0.20   \n",
       "Cylinders                0.08       1.00               0.74         -0.70   \n",
       "Fuel Barrels/Year       -0.22       0.74               1.00         -0.91   \n",
       "Combined MPG             0.20      -0.70              -0.91          1.00   \n",
       "Fuel Cost/Year          -0.09       0.78               0.92         -0.88   \n",
       "CO2 Emission Grams/Mile -0.22       0.75               0.99         -0.93   \n",
       "\n",
       "                         Fuel Cost/Year  CO2 Emission Grams/Mile  \n",
       "Year                              -0.09                    -0.22  \n",
       "Cylinders                          0.78                     0.75  \n",
       "Fuel Barrels/Year                  0.92                     0.99  \n",
       "Combined MPG                      -0.88                    -0.93  \n",
       "Fuel Cost/Year                     1.00                     0.93  \n",
       "CO2 Emission Grams/Mile            0.93                     1.00  "
      ]
     },
     "execution_count": 10,
     "metadata": {},
     "output_type": "execute_result"
    },
    {
     "data": {
      "image/png": "[encoded data removed]",
      "text/plain": [
       "<Figure size 432x288 with 2 Axes>"
      ]
     },
     "metadata": {
      "needs_background": "light"
     },
     "output_type": "display_data"
    }
   ],
   "source": [
    "# Your response here. \n",
    "# make the correlation matrix\n",
    "matrix = vehicles[[\"Year\", \"Cylinders\", \"Fuel Barrels/Year\", \"Combined MPG\", \n",
    "                        \"Fuel Cost/Year\", \"CO2 Emission Grams/Mile\"]].corr()\n",
    "\n",
    "# creating a mask\n",
    "mask = np.triu(np.ones_like(matrix, dtype = np.bool))\n",
    "\n",
    "# creating a color map\n",
    "cmap = sns.diverging_palette(220, 20, as_cmap = True)\n",
    "\n",
    "# presenting a corr matrix. \n",
    "sns.heatmap(matrix, cmap = cmap, mask = mask, annot = True)\n",
    "\"\"\"\n",
    "Judging by this correlation matrix, the most important variable in determining CO2 emissions \n",
    "is Fuel Barrels/Year, with Fuel Cost/Year and Combined MPG (so fuel) as close seconds (though\n",
    "combined Combined MPG inversly related).\n",
    "\n",
    "The variable that provides the least amount of helpful information for determining CO2 \n",
    "emissions is the Year.\n",
    "\"\"\"\n",
    "round(matrix, 2)"
   ]
  },
  {
   "cell_type": "markdown",
   "metadata": {},
   "source": [
    "Build a regression model for this data. What type of regression are you using? Add your responses as comments after your code."
   ]
  },
  {
   "cell_type": "code",
   "execution_count": 11,
   "metadata": {},
   "outputs": [
    {
     "data": {
      "text/html": [
       "<table class=\"simpletable\">\n",
       "<caption>OLS Regression Results</caption>\n",
       "<tr>\n",
       "  <th>Dep. Variable:</th>    <td>CO2 Emission Grams/Mile</td> <th>  R-squared (uncentered):</th>       <td>   0.999</td>  \n",
       "</tr>\n",
       "<tr>\n",
       "  <th>Model:</th>                      <td>OLS</td>           <th>  Adj. R-squared (uncentered):</th>  <td>   0.999</td>  \n",
       "</tr>\n",
       "<tr>\n",
       "  <th>Method:</th>                <td>Least Squares</td>      <th>  F-statistic:       </th>           <td>6.092e+06</td> \n",
       "</tr>\n",
       "<tr>\n",
       "  <th>Date:</th>                <td>Thu, 02 Apr 2020</td>     <th>  Prob (F-statistic):</th>            <td>  0.00</td>   \n",
       "</tr>\n",
       "<tr>\n",
       "  <th>Time:</th>                    <td>14:28:30</td>         <th>  Log-Likelihood:    </th>          <td>-1.5250e+05</td>\n",
       "</tr>\n",
       "<tr>\n",
       "  <th>No. Observations:</th>         <td> 35952</td>          <th>  AIC:               </th>           <td>3.050e+05</td> \n",
       "</tr>\n",
       "<tr>\n",
       "  <th>Df Residuals:</th>             <td> 35947</td>          <th>  BIC:               </th>           <td>3.050e+05</td> \n",
       "</tr>\n",
       "<tr>\n",
       "  <th>Df Model:</th>                 <td>     5</td>          <th>                     </th>               <td> </td>     \n",
       "</tr>\n",
       "<tr>\n",
       "  <th>Covariance Type:</th>         <td>nonrobust</td>        <th>                     </th>               <td> </td>     \n",
       "</tr>\n",
       "</table>\n",
       "<table class=\"simpletable\">\n",
       "<tr>\n",
       "          <td></td>             <th>coef</th>     <th>std err</th>      <th>t</th>      <th>P>|t|</th>  <th>[0.025</th>    <th>0.975]</th>  \n",
       "</tr>\n",
       "<tr>\n",
       "  <th>Year</th>              <td>    0.0630</td> <td>    0.001</td> <td>   74.153</td> <td> 0.000</td> <td>    0.061</td> <td>    0.065</td>\n",
       "</tr>\n",
       "<tr>\n",
       "  <th>Cylinders</th>         <td>    0.8873</td> <td>    0.081</td> <td>   10.952</td> <td> 0.000</td> <td>    0.729</td> <td>    1.046</td>\n",
       "</tr>\n",
       "<tr>\n",
       "  <th>Fuel Barrels/Year</th> <td>   19.8588</td> <td>    0.059</td> <td>  337.001</td> <td> 0.000</td> <td>   19.743</td> <td>   19.974</td>\n",
       "</tr>\n",
       "<tr>\n",
       "  <th>Combined MPG</th>      <td>   -3.0509</td> <td>    0.043</td> <td>  -70.368</td> <td> 0.000</td> <td>   -3.136</td> <td>   -2.966</td>\n",
       "</tr>\n",
       "<tr>\n",
       "  <th>Fuel Cost/Year</th>    <td>    0.0292</td> <td>    0.000</td> <td>   60.084</td> <td> 0.000</td> <td>    0.028</td> <td>    0.030</td>\n",
       "</tr>\n",
       "</table>\n",
       "<table class=\"simpletable\">\n",
       "<tr>\n",
       "  <th>Omnibus:</th>       <td>72934.517</td> <th>  Durbin-Watson:     </th>   <td>   0.757</td>   \n",
       "</tr>\n",
       "<tr>\n",
       "  <th>Prob(Omnibus):</th>  <td> 0.000</td>   <th>  Jarque-Bera (JB):  </th> <td>287219470.909</td>\n",
       "</tr>\n",
       "<tr>\n",
       "  <th>Skew:</th>           <td>16.861</td>   <th>  Prob(JB):          </th>   <td>    0.00</td>   \n",
       "</tr>\n",
       "<tr>\n",
       "  <th>Kurtosis:</th>       <td>439.575</td>  <th>  Cond. No.          </th>   <td>2.54e+03</td>   \n",
       "</tr>\n",
       "</table><br/><br/>Warnings:<br/>[1] Standard Errors assume that the covariance matrix of the errors is correctly specified.<br/>[2] The condition number is large, 2.54e+03. This might indicate that there are<br/>strong multicollinearity or other numerical problems."
      ],
      "text/plain": [
       "<class 'statsmodels.iolib.summary.Summary'>\n",
       "\"\"\"\n",
       "                                   OLS Regression Results                                   \n",
       "============================================================================================\n",
       "Dep. Variable:     CO2 Emission Grams/Mile   R-squared (uncentered):                   0.999\n",
       "Model:                                 OLS   Adj. R-squared (uncentered):              0.999\n",
       "Method:                      Least Squares   F-statistic:                          6.092e+06\n",
       "Date:                     Thu, 02 Apr 2020   Prob (F-statistic):                        0.00\n",
       "Time:                             14:28:30   Log-Likelihood:                     -1.5250e+05\n",
       "No. Observations:                    35952   AIC:                                  3.050e+05\n",
       "Df Residuals:                        35947   BIC:                                  3.050e+05\n",
       "Df Model:                                5                                                  \n",
       "Covariance Type:                 nonrobust                                                  \n",
       "=====================================================================================\n",
       "                        coef    std err          t      P>|t|      [0.025      0.975]\n",
       "-------------------------------------------------------------------------------------\n",
       "Year                  0.0630      0.001     74.153      0.000       0.061       0.065\n",
       "Cylinders             0.8873      0.081     10.952      0.000       0.729       1.046\n",
       "Fuel Barrels/Year    19.8588      0.059    337.001      0.000      19.743      19.974\n",
       "Combined MPG         -3.0509      0.043    -70.368      0.000      -3.136      -2.966\n",
       "Fuel Cost/Year        0.0292      0.000     60.084      0.000       0.028       0.030\n",
       "==============================================================================\n",
       "Omnibus:                    72934.517   Durbin-Watson:                   0.757\n",
       "Prob(Omnibus):                  0.000   Jarque-Bera (JB):        287219470.909\n",
       "Skew:                          16.861   Prob(JB):                         0.00\n",
       "Kurtosis:                     439.575   Cond. No.                     2.54e+03\n",
       "==============================================================================\n",
       "\n",
       "Warnings:\n",
       "[1] Standard Errors assume that the covariance matrix of the errors is correctly specified.\n",
       "[2] The condition number is large, 2.54e+03. This might indicate that there are\n",
       "strong multicollinearity or other numerical problems.\n",
       "\"\"\""
      ]
     },
     "execution_count": 11,
     "metadata": {},
     "output_type": "execute_result"
    }
   ],
   "source": [
    "# Your response here. \n",
    "# I'm infering from the title of the lab that it's to use a linear regression\n",
    "\n",
    "# target (variable to predict)\n",
    "target = vehicles[\"CO2 Emission Grams/Mile\"]\n",
    "\n",
    "# data/predictors (since \"Year\" has little correlation, should I take it out?)\n",
    "predictors = vehicles[[\"Year\", \"Cylinders\", \"Fuel Barrels/Year\", \"Combined MPG\", \n",
    "                       \"Fuel Cost/Year\"]]\n",
    "\n",
    "# Building the model\n",
    "model = sm.OLS(target, predictors).fit()\n",
    "\n",
    "# making the predictions\n",
    "#predictions = results.predict(predictors)\n",
    "\n",
    "# Printing the statistics\n",
    "model.summary()"
   ]
  },
  {
   "cell_type": "markdown",
   "metadata": {},
   "source": [
    "Print your regression summary, and interpret the results. What are the most important varibles in your model and why? What can conclusions can you draw from your model and how confident in these conclusions are you? Add your responses as comments after your code."
   ]
  },
  {
   "cell_type": "code",
   "execution_count": 12,
   "metadata": {},
   "outputs": [
    {
     "data": {
      "text/plain": [
       "'\\nI\\'m using the OLS (Ordinary Least Squares and the method) Model, and the Least Squares method,\\nthat means that we’re trying to fit a regression line that would minimize the square of \\ndistance from the regression line. \\n\\nDf of residuals and models relates to the degrees of freedom \"the number of values in the \\nfinal calculation of a statistic that are free to vary.”\\n\\nThe coefficients mean that as each variable increases by 1, the predicted value of \\nCO2 Emission Grams/Mile increases by that amount (for example, so as Year increases by 1, \\nCO2 Emission Grams/Mile by increases 0.0630, and as Fuel Barrels/Year increase by 1, \\nCO2 Emission Grams/Mile increases by 19.8588). \\n\\nThe R-squared is the percentage of variance our model explains. In this case is very, very \\nhigh.\\n\\nThe standard error is the standard deviation of the sampling distribution of a statistic, \\nmost commonly of the mean. \\n\\nThe t scores and p-values, for hypothesis test.\\n\\nUnfortunatly, I don\\'t quite know/understand enough to interpret this report further.\\n\\nsource: https://towardsdatascience.com/simple-and-multiple-linear-regression-in-python-c928425168f9\\n'"
      ]
     },
     "execution_count": 12,
     "metadata": {},
     "output_type": "execute_result"
    }
   ],
   "source": [
    "# Your response here. \n",
    "\"\"\"\n",
    "I'm using the OLS (Ordinary Least Squares and the method) Model, and the Least Squares method,\n",
    "that means that we’re trying to fit a regression line that would minimize the square of \n",
    "distance from the regression line. \n",
    "\n",
    "Df of residuals and models relates to the degrees of freedom \"the number of values in the \n",
    "final calculation of a statistic that are free to vary.”\n",
    "\n",
    "The coefficients mean that as each variable increases by 1, the predicted value of \n",
    "CO2 Emission Grams/Mile increases by that amount (for example, so as Year increases by 1, \n",
    "CO2 Emission Grams/Mile by increases 0.0630, and as Fuel Barrels/Year increase by 1, \n",
    "CO2 Emission Grams/Mile increases by 19.8588). \n",
    "\n",
    "The R-squared is the percentage of variance our model explains. In this case is very, very \n",
    "high.\n",
    "\n",
    "The standard error is the standard deviation of the sampling distribution of a statistic, \n",
    "most commonly of the mean. \n",
    "\n",
    "The t scores and p-values, for hypothesis test.\n",
    "\n",
    "Unfortunatly, I don't quite know/understand enough to interpret this report further.\n",
    "\n",
    "source: https://towardsdatascience.com/simple-and-multiple-linear-regression-in-python-c928425168f9\n",
    "\"\"\""
   ]
  },
  {
   "cell_type": "markdown",
   "metadata": {},
   "source": [
    "## Challenge 2: Error Analysis"
   ]
  },
  {
   "cell_type": "markdown",
   "metadata": {},
   "source": [
    "I am suspicious about the last few parties I have thrown: it seems that the more people I invite the more people are unable to attend. To know if my hunch is supported by data, I have decided to do an analysis. I have collected my data in the table below, where X is the number of people I invited, and Y is the number of people who attended. \n",
    "\n",
    "|  X |  Y |\n",
    "|----|----|\n",
    "| 1  |  1 |\n",
    "| 3  |  2 |\n",
    "| 4  |  4 |\n",
    "| 6  |  4 |\n",
    "| 8  |  5 |\n",
    "| 9  |  7 |\n",
    "| 11 |  8 |\n",
    "| 14 |  13 |"
   ]
  },
  {
   "cell_type": "markdown",
   "metadata": {},
   "source": [
    "We want to know if the relationship modeled by the two random variables is linear or not, and therefore if it is appropriate to model it with a linear regression. \n",
    "First, build a dataframe with the data. "
   ]
  },
  {
   "cell_type": "code",
   "execution_count": 13,
   "metadata": {},
   "outputs": [],
   "source": [
    "# Your code here.\n",
    "X = [1, 3, 4, 6, 8, 9, 11, 14]\n",
    "Y = [1, 2, 4, 4, 5, 7, 8, 13]"
   ]
  },
  {
   "cell_type": "markdown",
   "metadata": {},
   "source": [
    "Draw a dispersion diagram (scatter plot) for the data, and fit a regression line."
   ]
  },
  {
   "cell_type": "code",
   "execution_count": 14,
   "metadata": {},
   "outputs": [
    {
     "data": {
      "text/plain": [
       "<matplotlib.axes._subplots.AxesSubplot at 0x7f84b0fe9910>"
      ]
     },
     "execution_count": 14,
     "metadata": {},
     "output_type": "execute_result"
    },
    {
     "data": {
      "image/png": "[encoded data removed]",
      "text/plain": [
       "<Figure size 432x288 with 1 Axes>"
      ]
     },
     "metadata": {
      "needs_background": "light"
     },
     "output_type": "display_data"
    }
   ],
   "source": [
    "# Your code here.\n",
    "sns.regplot(x = X, y = Y)"
   ]
  },
  {
   "cell_type": "markdown",
   "metadata": {},
   "source": [
    "What do you see? What does this plot tell you about the likely relationship between the variables? Print the results from your regression."
   ]
  },
  {
   "cell_type": "code",
   "execution_count": 15,
   "metadata": {},
   "outputs": [
    {
     "name": "stdout",
     "output_type": "stream",
     "text": [
      "The slope is: 0.8484848484848485\n",
      "The intercept is: -0.43939393939393945\n"
     ]
    },
    {
     "data": {
      "image/png": "[encoded data removed]",
      "text/plain": [
       "<Figure size 432x288 with 1 Axes>"
      ]
     },
     "metadata": {
      "needs_background": "light"
     },
     "output_type": "display_data"
    },
    {
     "data": {
      "text/plain": [
       "<matplotlib.axes._subplots.AxesSubplot at 0x7f8480ac7a50>"
      ]
     },
     "execution_count": 15,
     "metadata": {},
     "output_type": "execute_result"
    },
    {
     "data": {
      "image/png": "[encoded data removed]",
      "text/plain": [
       "<Figure size 432x288 with 1 Axes>"
      ]
     },
     "metadata": {
      "needs_background": "light"
     },
     "output_type": "display_data"
    }
   ],
   "source": [
    "# Your response here. \n",
    "# There seems to be a linear relationship between these variables.\n",
    "\n",
    "# calculating the intercept and slope\n",
    "slope, intercept, r_value, p_value, std_err = stats.linregress(X, Y)\n",
    "\n",
    "print (\"The slope is:\", slope)\n",
    "print (\"The intercept is:\", intercept)\n",
    "\n",
    "# Building the model\n",
    "model = sm.OLS(Y, X)\n",
    "\n",
    "# fitting the model\n",
    "results = model.fit()\n",
    "\n",
    "# making the predictions\n",
    "predictions = results.predict(X)\n",
    "\n",
    "# is this what's being asked, or was it the previous graph?\n",
    "sns.regplot(x = X, y = predictions)\n",
    "plt.show()\n",
    "\n",
    "# I'm using the same to anwser the next question\n",
    "sns.regplot(x = X, y = Y)"
   ]
  },
  {
   "cell_type": "markdown",
   "metadata": {},
   "source": [
    "Do you see any problematic points, or outliers, in your data? Remove these points and recalculate your regression. Print the new dispersion diagram with your new model and the results of your model. "
   ]
  },
  {
   "cell_type": "code",
   "execution_count": 16,
   "metadata": {},
   "outputs": [
    {
     "data": {
      "text/plain": [
       "([1, 3, 6, 8, 11], [1, 2, 4, 5, 8])"
      ]
     },
     "execution_count": 16,
     "metadata": {},
     "output_type": "execute_result"
    }
   ],
   "source": [
    "# Your response here. \n",
    "# I don't understand enough to know for sure.. I mean, the 3rd, 5th and last points seem to \n",
    "# fall ou of the \"expected range\", but why would we remove points \"because we don't like \n",
    "# them\"?\n",
    "\n",
    "# removing the undesired\n",
    "del X[2]\n",
    "del Y[2]\n",
    "del X[4]\n",
    "del Y[4]\n",
    "del X[-1]\n",
    "del Y[-1]\n",
    "X, Y"
   ]
  },
  {
   "cell_type": "code",
   "execution_count": 18,
   "metadata": {},
   "outputs": [
    {
     "data": {
      "text/plain": [
       "[1, 3, 6, 8, 11]"
      ]
     },
     "execution_count": 18,
     "metadata": {},
     "output_type": "execute_result"
    }
   ],
   "source": [
    "X"
   ]
  },
  {
   "cell_type": "markdown",
   "metadata": {},
   "source": [
    "What changed? Based on the results of the two models and your graphs, what can you say about the form of the data with the problematic point and without it?"
   ]
  },
  {
   "cell_type": "code",
   "execution_count": 17,
   "metadata": {},
   "outputs": [
    {
     "name": "stdout",
     "output_type": "stream",
     "text": [
      "The slope is: 0.6847133757961783\n",
      "The intercept is: 0.028662420382166154\n"
     ]
    },
    {
     "data": {
      "image/png": "[encoded data removed]",
      "text/plain": [
       "<Figure size 432x288 with 1 Axes>"
      ]
     },
     "metadata": {
      "needs_background": "light"
     },
     "output_type": "display_data"
    },
    {
     "data": {
      "image/png": "[encoded data removed]",
      "text/plain": [
       "<Figure size 432x288 with 1 Axes>"
      ]
     },
     "metadata": {
      "needs_background": "light"
     },
     "output_type": "display_data"
    },
    {
     "data": {
      "text/plain": [
       "\"\\nProblematic point? So it was to remove only one? Which one? Why?\\n\\nBy eye both graphs (before and after removing the points) seem pretty good. But the slope of \\nthe previous one was aprox. 0.85, and now it's only at aprox 0.68 so... we're seeing less \\npeople coming to the party(?) now that the outliers were removed..? But the y-intercept of the\\nother was negative and this one is positive, so...?\\n\""
      ]
     },
     "execution_count": 17,
     "metadata": {},
     "output_type": "execute_result"
    }
   ],
   "source": [
    "# Your response here. \n",
    "# calculating the intercept and slope\n",
    "slope, intercept, r_value, p_value, std_err = stats.linregress(X, Y)\n",
    "\n",
    "print (\"The slope is:\", slope)\n",
    "print (\"The intercept is:\", intercept)\n",
    "\n",
    "# Building the model\n",
    "model = sm.OLS(Y, X)\n",
    "\n",
    "# fitting the model\n",
    "results = model.fit()\n",
    "\n",
    "# making the predictions\n",
    "predictions = results.predict(X)\n",
    "\n",
    "# is this what's being asked, or was it the previous graph?\n",
    "sns.regplot(x = X, y = predictions)\n",
    "plt.show()\n",
    "\n",
    "# I'm using the same to anwser the next question\n",
    "sns.regplot(x = X, y = Y)\n",
    "plt.show()\n",
    "\n",
    "\"\"\"\n",
    "Problematic point? So it was to remove only one? Which one? Why?\n",
    "\n",
    "By eye both graphs (before and after removing the points) seem pretty good. But the slope of \n",
    "the previous one was aprox. 0.85, and now it's only at aprox 0.68 so... we're seeing less \n",
    "people coming to the party(?) now that the outliers were removed..? But the y-intercept of the\n",
    "other was negative and this one is positive, so...?\n",
    "\"\"\""
   ]
  },
  {
   "cell_type": "code",
   "execution_count": null,
   "metadata": {},
   "outputs": [],
   "source": []
  }
 ],
 "metadata": {
  "kernelspec": {
   "display_name": "Python 3",
   "language": "python",
   "name": "python3"
  },
  "language_info": {
   "codemirror_mode": {
    "name": "ipython",
    "version": 3
   },
   "file_extension": ".py",
   "mimetype": "text/x-python",
   "name": "python",
   "nbconvert_exporter": "python",
   "pygments_lexer": "ipython3",
   "version": "3.7.6"
  }
 },
 "nbformat": 4,
 "nbformat_minor": 2
}
